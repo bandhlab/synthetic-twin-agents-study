{
 "cells": [
  {
   "cell_type": "code",
   "execution_count": 1,
   "id": "8f9c564d-ae80-42a7-a3a5-314b71791fed",
   "metadata": {},
   "outputs": [],
   "source": [
    "import numpy as np\n",
    "import pandas as pd\n",
    "import plotly.graph_objects as go\n",
    "from scipy.stats import norm\n",
    "\n",
    "def fishers_z_test(r1, r2, n1, n2):\n",
    "    \"\"\"\n",
    "    Perform Fisher's Z-test to compare two correlation coefficients.\n",
    "    r1, r2: Correlation coefficients to compare\n",
    "    n1, n2: Sample sizes of the respective groups\n",
    "    Returns: z-score and p-value\n",
    "    \"\"\"\n",
    "    # Fisher's Z transformation\n",
    "    z1 = 0.5 * np.log((1 + r1) / (1 - r1))\n",
    "    z2 = 0.5 * np.log((1 + r2) / (1 - r2))\n",
    "\n",
    "    # Standard error\n",
    "    se = np.sqrt(1/(n1 - 3) + 1/(n2 - 3))\n",
    "\n",
    "    # Z-test statistic\n",
    "    z = (z1 - z2) / se\n",
    "\n",
    "    # Two-tailed p-value\n",
    "    p_value = 2 * (1 - norm.cdf(abs(z)))\n",
    "\n",
    "    return z, p_value\n",
    "\n",
    "n_human = 373\n",
    "n_synthetic = 373\n",
    "\n",
    "# Correlation matrices (Human, GPT-4o, and Gemini)\n",
    "correlations_human = {\n",
    "    \"Cabin Luggage\": {\"Extraversion\": 0.1015, \"Agreeableness\": 0.2585, \"Conscientiousness\": 0.0157, \"Neuroticism\": 0.0293, \"Openness\": -0.0302},\n",
    "    \"Packing Cubes\": {\"Extraversion\": 0.1717, \"Agreeableness\": 0.3926, \"Conscientiousness\": -0.0288, \"Neuroticism\": -0.0009, \"Openness\": 0.0443},\n",
    "    \"Water Bottle\": {\"Extraversion\": 0.1866, \"Agreeableness\": 0.2573, \"Conscientiousness\": 0.0545, \"Neuroticism\": -0.1716, \"Openness\": -0.0265}\n",
    "}\n",
    "\n",
    "correlations_gpt4o = {\n",
    "    \"Cabin Luggage\": {\"Extraversion\": 0.27, \"Agreeableness\": 0.21, \"Conscientiousness\": 0.26, \"Neuroticism\": -0.00, \"Openness\": 0.55},\n",
    "    \"Packing Cubes\": {\"Extraversion\": 0.34, \"Agreeableness\": 0.23, \"Conscientiousness\": 0.23, \"Neuroticism\": 0.00, \"Openness\": 0.52},\n",
    "    \"Water Bottle\": {\"Extraversion\": 0.64, \"Agreeableness\": 0.17, \"Conscientiousness\": 0.27, \"Neuroticism\": 0.08, \"Openness\": 0.57}\n",
    "}\n",
    "\n",
    "correlations_gemini = {\n",
    "    \"Cabin Luggage\": {\"Extraversion\": 0.18, \"Agreeableness\": 0.24, \"Conscientiousness\": 0.28, \"Neuroticism\": 0.08, \"Openness\": 0.29},\n",
    "    \"Packing Cubes\": {\"Extraversion\": 0.26, \"Agreeableness\": 0.22, \"Conscientiousness\": 0.19, \"Neuroticism\": 0.14, \"Openness\": 0.35},\n",
    "    \"Water Bottle\": {\"Extraversion\": 0.37, \"Agreeableness\": 0.18, \"Conscientiousness\": 0.09, \"Neuroticism\": -0.21, \"Openness\": 0.42}\n",
    "}\n",
    "\n",
    "fdr_threshold = 0.00022\n",
    "\n",
    "# Function to compute Fisher's Z-tests\n",
    "def fisher_tests(human_data, synthetic_data):\n",
    "    results = {product: {} for product in human_data.keys()}\n",
    "    \n",
    "    for product in human_data.keys():\n",
    "        for trait in human_data[product].keys():\n",
    "            z, p = fishers_z_test(\n",
    "                human_data[product][trait], \n",
    "                synthetic_data[product][trait], \n",
    "                n_human, \n",
    "                n_synthetic\n",
    "            )\n",
    "            results[product][trait] = {\"z-score\": z, \"p-value\": p}\n",
    "    \n",
    "    return results\n",
    "\n",
    "results_gpt4o = fisher_tests(correlations_human, correlations_gpt4o)\n",
    "results_gemini = fisher_tests(correlations_human, correlations_gemini)\n",
    "\n"
   ]
  },
  {
   "cell_type": "markdown",
   "id": "c180d68c-19a8-48c9-8beb-407625a3b19f",
   "metadata": {},
   "source": [
    "<h1>Assessing Alignment Between Humans and Models Using Fisher’s z-Test</h1>"
   ]
  },
  {
   "cell_type": "code",
   "execution_count": 247,
   "id": "9d9c47e7-f50f-40b9-9b1c-a3e5bd4b04f4",
   "metadata": {},
   "outputs": [],
   "source": [
    "import numpy as np\n",
    "import scipy.stats as stats\n",
    "import pandas as pd\n",
    "from statsmodels.stats.multitest import multipletests\n",
    "\n",
    "correlations_human = {\n",
    "    \"Cabin Luggage\": {\"Extraversion\": 0.1015, \"Agreeableness\": 0.2585, \"Conscientiousness\": 0.0157, \"Neuroticism\": 0.0293, \"Openness\": -0.0302},\n",
    "    \"Packing Cubes\": {\"Extraversion\": 0.1717, \"Agreeableness\": 0.3926, \"Conscientiousness\": -0.0288, \"Neuroticism\": -0.0009, \"Openness\": 0.0443},\n",
    "    \"Water Bottle\": {\"Extraversion\": 0.1866, \"Agreeableness\": 0.2573, \"Conscientiousness\": 0.0545, \"Neuroticism\": -0.1716, \"Openness\": -0.0265}\n",
    "}\n",
    "\n",
    "correlations_gpt4o = {\n",
    "    \"Cabin Luggage\": {\"Extraversion\": 0.27, \"Agreeableness\": 0.21, \"Conscientiousness\": 0.26, \"Neuroticism\": -0.00, \"Openness\": 0.55},\n",
    "    \"Packing Cubes\": {\"Extraversion\": 0.34, \"Agreeableness\": 0.23, \"Conscientiousness\": 0.23, \"Neuroticism\": 0.00, \"Openness\": 0.52},\n",
    "    \"Water Bottle\": {\"Extraversion\": 0.64, \"Agreeableness\": 0.17, \"Conscientiousness\": 0.27, \"Neuroticism\": 0.08, \"Openness\": 0.57}\n",
    "}\n",
    "\n",
    "correlations_gemini = {\n",
    "    \"Cabin Luggage\": {\"Extraversion\": 0.18, \"Agreeableness\": 0.24, \"Conscientiousness\": 0.28, \"Neuroticism\": 0.08, \"Openness\": 0.29},\n",
    "    \"Packing Cubes\": {\"Extraversion\": 0.26, \"Agreeableness\": 0.22, \"Conscientiousness\": 0.19, \"Neuroticism\": 0.14, \"Openness\": 0.35},\n",
    "    \"Water Bottle\": {\"Extraversion\": 0.37, \"Agreeableness\": 0.18, \"Conscientiousness\": 0.09, \"Neuroticism\": -0.21, \"Openness\": 0.42}\n",
    "}\n",
    "\n",
    "\n",
    "df_human = pd.DataFrame(correlations_human).T\n",
    "df_gpt4o = pd.DataFrame(correlations_gpt4o).T\n",
    "df_gemini = pd.DataFrame(correlations_gemini).T\n",
    "\n",
    "\n",
    "n_human = 373\n",
    "n_synthetic = 373\n",
    "\n",
    "def compute_fishers_z_per_product(df_human, df_model, model_name):\n",
    "    results = []\n",
    "    for product in df_human.index:\n",
    "        for trait in df_human.columns:\n",
    "            r_human = df_human.loc[product, trait]\n",
    "            r_model = df_model.loc[product, trait]\n",
    "            z, p = fishers_z_test(r_human, r_model, n_human, n_synthetic)\n",
    "            \n",
    "            # Round values\n",
    "            p = round(p, 4)\n",
    "            z = round(z, 2)\n",
    "            r_human = round(r_human, 2)\n",
    "            r_model = round(r_model, 2)\n",
    "\n",
    "            similarity_threshold = 0.1\n",
    "            alignment = \"Aligned\" if (abs(r_human - r_model) <= similarity_threshold) and (p >= 0.05) else \"Misaligned\"\n",
    "            significance = \"*\" if p < 0.00022 else \"\" # FDR-adjusted p-value\n",
    "\n",
    "            results.append({\n",
    "                \"Product\": product,\n",
    "                \"Trait-Matched Ad\": trait,\n",
    "                \"Human ( r )\": r_human,\n",
    "                f\"{model_name} ( r )\": r_model,\n",
    "                \"Δr\": r_human - r_model,\n",
    "                \"z-statistics\": z,\n",
    "                \"p-value\": p,\n",
    "                \"Significance\": significance,\n",
    "                \"Alignment\": alignment\n",
    "            })\n",
    "\n",
    "    df_results = pd.DataFrame(results)\n",
    "\n",
    "    return df_results\n",
    "\n",
    "df_z_gpt4o = compute_fishers_z_per_product(df_human, df_gpt4o, \"GPT-4o\")\n",
    "df_z_gemini = compute_fishers_z_per_product(df_human, df_gemini, \"Gemini\")"
   ]
  },
  {
   "cell_type": "code",
   "execution_count": null,
   "id": "f177a9d9",
   "metadata": {},
   "outputs": [],
   "source": [
    "import pandas as pd\n",
    "import plotly.graph_objects as go\n",
    "from plotly.subplots import make_subplots\n",
    "\n",
    "def plot_alignment_with_humans(model=\"gpt\", similarity_threshold=0.1):\n",
    "    correlations_human = {\n",
    "        \"Cabin Luggage\": {\"Extraversion\": 0.1015, \"Agreeableness\": 0.2585, \"Conscientiousness\": 0.0157, \"Neuroticism\": 0.0293, \"Openness\": -0.0302},\n",
    "        \"Packing Cubes\": {\"Extraversion\": 0.1717, \"Agreeableness\": 0.3926, \"Conscientiousness\": -0.0288, \"Neuroticism\": -0.0009, \"Openness\": 0.0443},\n",
    "        \"Water Bottle\": {\"Extraversion\": 0.1866, \"Agreeableness\": 0.2573, \"Conscientiousness\": 0.0545, \"Neuroticism\": -0.1716, \"Openness\": -0.0265}\n",
    "    }\n",
    "\n",
    "    correlations_gpt4o = {\n",
    "        \"Cabin Luggage\": {\"Extraversion\": 0.27, \"Agreeableness\": 0.21, \"Conscientiousness\": 0.26, \"Neuroticism\": -0.00, \"Openness\": 0.55},\n",
    "        \"Packing Cubes\": {\"Extraversion\": 0.34, \"Agreeableness\": 0.23, \"Conscientiousness\": 0.23, \"Neuroticism\": 0.00, \"Openness\": 0.52},\n",
    "        \"Water Bottle\": {\"Extraversion\": 0.64, \"Agreeableness\": 0.17, \"Conscientiousness\": 0.27, \"Neuroticism\": 0.08, \"Openness\": 0.57}\n",
    "    }\n",
    "\n",
    "    correlations_gemini = {\n",
    "        \"Cabin Luggage\": {\"Extraversion\": 0.18, \"Agreeableness\": 0.24, \"Conscientiousness\": 0.28, \"Neuroticism\": 0.08, \"Openness\": 0.29},\n",
    "        \"Packing Cubes\": {\"Extraversion\": 0.26, \"Agreeableness\": 0.22, \"Conscientiousness\": 0.19, \"Neuroticism\": 0.14, \"Openness\": 0.35},\n",
    "        \"Water Bottle\": {\"Extraversion\": 0.37, \"Agreeableness\": 0.18, \"Conscientiousness\": 0.09, \"Neuroticism\": -0.21, \"Openness\": 0.42}\n",
    "    }\n",
    "\n",
    "    model_name = \"GPT-4o\" if model == \"gpt\" else \"Gemini 1.5 Flash\"\n",
    "    correlations_model = correlations_gpt4o if model == \"gpt\" else correlations_gemini\n",
    "\n",
    "    df_human = pd.DataFrame(correlations_human).T\n",
    "    df_model = pd.DataFrame(correlations_model).T\n",
    "    traits = [\"Openness\", \"Conscientiousness\", \"Extraversion\",\"Agreeableness\",\"Neuroticism\"]\n",
    "\n",
    "    x_ranges = {}\n",
    "    for product in df_human.index:\n",
    "        all_vals = pd.concat([df_human.loc[product], df_model.loc[product]])\n",
    "        x_ranges[product] = (all_vals.min() - 0.05, all_vals.max() + 0.05)\n",
    "\n",
    "    fig = make_subplots(\n",
    "        rows=3, cols=1, \n",
    "        shared_xaxes=False, \n",
    "        subplot_titles=list(df_human.index), \n",
    "        vertical_spacing=0.1\n",
    "    )\n",
    "\n",
    "    for i, product in enumerate(df_human.index, start=1):\n",
    "        for trait in traits:\n",
    "            r_human = round(df_human.loc[product, trait], 2)\n",
    "            r_model = round(df_model.loc[product, trait], 2)\n",
    "            aligned = abs(r_human - r_model) <= similarity_threshold\n",
    "            color = \"green\" if aligned else \"red\"\n",
    "\n",
    "            # Line\n",
    "            fig.add_trace(go.Scatter(\n",
    "                x=[r_human, r_model],\n",
    "                y=[trait, trait],\n",
    "                mode='lines',\n",
    "                line=dict(color=\"black\", width=1),\n",
    "                opacity=0.7,\n",
    "                showlegend=False\n",
    "            ), row=i, col=1)\n",
    "\n",
    "            # Human marker\n",
    "            fig.add_trace(go.Scatter(\n",
    "                x=[r_human],\n",
    "                y=[trait],\n",
    "                mode='markers+text',\n",
    "                marker=dict(size=10, symbol=\"circle\", color=color),\n",
    "                text=[f\"r={r_human}\"],\n",
    "                textposition=\"middle left\" if r_human < r_model else \"middle right\",\n",
    "                showlegend=False\n",
    "            ), row=i, col=1)\n",
    "\n",
    "            # Synthetic model marker\n",
    "            fig.add_trace(go.Scatter(\n",
    "                x=[r_model],\n",
    "                y=[trait],\n",
    "                mode='markers+text',\n",
    "                marker=dict(size=10, symbol=\"square\", color=color),\n",
    "                text=[f\"r={r_model}\"],\n",
    "                textposition=\"middle right\" if r_human < r_model else \"middle left\",\n",
    "                showlegend=False\n",
    "            ), row=i, col=1)\n",
    "\n",
    "        # Ensure consistent y-axis order\n",
    "        fig.update_yaxes(\n",
    "            categoryorder='array',\n",
    "            categoryarray=traits[::-1],\n",
    "            row=i, col=1\n",
    "        )\n",
    "        fig.update_xaxes(\n",
    "            title_text=\"Correlation\",\n",
    "            range=x_ranges[product],\n",
    "            row=i, col=1\n",
    "        )\n",
    "\n",
    "    # Add legends\n",
    "    fig.add_trace(go.Scatter(\n",
    "        x=[None], y=[None],\n",
    "        mode='markers',\n",
    "        marker=dict(size=10, symbol='circle', color='gray'),\n",
    "        name='Humans'\n",
    "    ))\n",
    "    fig.add_trace(go.Scatter(\n",
    "        x=[None], y=[None],\n",
    "        mode='markers',\n",
    "        marker=dict(size=10, symbol='square', color='gray'),\n",
    "        name='Synthetic Twin'\n",
    "    ))\n",
    "    fig.add_trace(go.Scatter(\n",
    "        x=[None], y=[None],\n",
    "        mode='markers',\n",
    "        marker=dict(size=10, symbol='circle', color='green'),\n",
    "        name='Aligned'\n",
    "    ))\n",
    "    fig.add_trace(go.Scatter(\n",
    "        x=[None], y=[None],\n",
    "        mode='markers',\n",
    "        marker=dict(size=10, symbol='circle', color='red'),\n",
    "        name='Misaligned'\n",
    "    ))\n",
    "\n",
    "    # Final layout\n",
    "    fig.update_layout(\n",
    "        height=1400,\n",
    "        width=1300,\n",
    "        title=f\"Alignment Between Humans and Synthetic Twins ({model_name})\",\n",
    "        margin=dict(t=100, b=80, l=100, r=220),\n",
    "        legend=dict(\n",
    "            x=1.02,\n",
    "            y=1,\n",
    "            traceorder='normal',\n",
    "            font=dict(size=12),\n",
    "            borderwidth=0\n",
    "        )\n",
    "    )\n",
    "\n",
    "    fig.show()\n"
   ]
  },
  {
   "cell_type": "code",
   "execution_count": 254,
   "id": "f1e7e4c1",
   "metadata": {},
   "outputs": [
    {
     "data": {
      "text/html": [
       "<div>\n",
       "<style scoped>\n",
       "    .dataframe tbody tr th:only-of-type {\n",
       "        vertical-align: middle;\n",
       "    }\n",
       "\n",
       "    .dataframe tbody tr th {\n",
       "        vertical-align: top;\n",
       "    }\n",
       "\n",
       "    .dataframe thead th {\n",
       "        text-align: right;\n",
       "    }\n",
       "</style>\n",
       "<table border=\"1\" class=\"dataframe\">\n",
       "  <thead>\n",
       "    <tr style=\"text-align: right;\">\n",
       "      <th></th>\n",
       "      <th>Product</th>\n",
       "      <th>Trait-Matched Ad</th>\n",
       "      <th>Human ( r )</th>\n",
       "      <th>GPT-4o ( r )</th>\n",
       "      <th>Δr</th>\n",
       "      <th>z-statistics</th>\n",
       "      <th>p-value</th>\n",
       "      <th>Significance</th>\n",
       "      <th>Alignment</th>\n",
       "    </tr>\n",
       "  </thead>\n",
       "  <tbody>\n",
       "    <tr>\n",
       "      <th>0</th>\n",
       "      <td>Cabin Luggage</td>\n",
       "      <td>Extraversion</td>\n",
       "      <td>0.10</td>\n",
       "      <td>0.27</td>\n",
       "      <td>-0.17</td>\n",
       "      <td>-2.38</td>\n",
       "      <td>0.0173</td>\n",
       "      <td></td>\n",
       "      <td>Misaligned</td>\n",
       "    </tr>\n",
       "    <tr>\n",
       "      <th>1</th>\n",
       "      <td>Cabin Luggage</td>\n",
       "      <td>Agreeableness</td>\n",
       "      <td>0.26</td>\n",
       "      <td>0.21</td>\n",
       "      <td>0.05</td>\n",
       "      <td>0.70</td>\n",
       "      <td>0.4851</td>\n",
       "      <td></td>\n",
       "      <td>Aligned</td>\n",
       "    </tr>\n",
       "    <tr>\n",
       "      <th>2</th>\n",
       "      <td>Cabin Luggage</td>\n",
       "      <td>Conscientiousness</td>\n",
       "      <td>0.02</td>\n",
       "      <td>0.26</td>\n",
       "      <td>-0.24</td>\n",
       "      <td>-3.41</td>\n",
       "      <td>0.0007</td>\n",
       "      <td></td>\n",
       "      <td>Misaligned</td>\n",
       "    </tr>\n",
       "    <tr>\n",
       "      <th>3</th>\n",
       "      <td>Cabin Luggage</td>\n",
       "      <td>Neuroticism</td>\n",
       "      <td>0.03</td>\n",
       "      <td>-0.00</td>\n",
       "      <td>0.03</td>\n",
       "      <td>0.40</td>\n",
       "      <td>0.6902</td>\n",
       "      <td></td>\n",
       "      <td>Aligned</td>\n",
       "    </tr>\n",
       "    <tr>\n",
       "      <th>4</th>\n",
       "      <td>Cabin Luggage</td>\n",
       "      <td>Openness</td>\n",
       "      <td>-0.03</td>\n",
       "      <td>0.55</td>\n",
       "      <td>-0.58</td>\n",
       "      <td>-8.82</td>\n",
       "      <td>0.0000</td>\n",
       "      <td>*</td>\n",
       "      <td>Misaligned</td>\n",
       "    </tr>\n",
       "    <tr>\n",
       "      <th>5</th>\n",
       "      <td>Packing Cubes</td>\n",
       "      <td>Extraversion</td>\n",
       "      <td>0.17</td>\n",
       "      <td>0.34</td>\n",
       "      <td>-0.17</td>\n",
       "      <td>-2.46</td>\n",
       "      <td>0.0140</td>\n",
       "      <td></td>\n",
       "      <td>Misaligned</td>\n",
       "    </tr>\n",
       "    <tr>\n",
       "      <th>6</th>\n",
       "      <td>Packing Cubes</td>\n",
       "      <td>Agreeableness</td>\n",
       "      <td>0.39</td>\n",
       "      <td>0.23</td>\n",
       "      <td>0.16</td>\n",
       "      <td>2.46</td>\n",
       "      <td>0.0140</td>\n",
       "      <td></td>\n",
       "      <td>Misaligned</td>\n",
       "    </tr>\n",
       "    <tr>\n",
       "      <th>7</th>\n",
       "      <td>Packing Cubes</td>\n",
       "      <td>Conscientiousness</td>\n",
       "      <td>-0.03</td>\n",
       "      <td>0.23</td>\n",
       "      <td>-0.26</td>\n",
       "      <td>-3.58</td>\n",
       "      <td>0.0003</td>\n",
       "      <td></td>\n",
       "      <td>Misaligned</td>\n",
       "    </tr>\n",
       "    <tr>\n",
       "      <th>8</th>\n",
       "      <td>Packing Cubes</td>\n",
       "      <td>Neuroticism</td>\n",
       "      <td>-0.00</td>\n",
       "      <td>0.00</td>\n",
       "      <td>-0.00</td>\n",
       "      <td>-0.01</td>\n",
       "      <td>0.9902</td>\n",
       "      <td></td>\n",
       "      <td>Aligned</td>\n",
       "    </tr>\n",
       "    <tr>\n",
       "      <th>9</th>\n",
       "      <td>Packing Cubes</td>\n",
       "      <td>Openness</td>\n",
       "      <td>0.04</td>\n",
       "      <td>0.52</td>\n",
       "      <td>-0.48</td>\n",
       "      <td>-7.24</td>\n",
       "      <td>0.0000</td>\n",
       "      <td>*</td>\n",
       "      <td>Misaligned</td>\n",
       "    </tr>\n",
       "    <tr>\n",
       "      <th>10</th>\n",
       "      <td>Water Bottle</td>\n",
       "      <td>Extraversion</td>\n",
       "      <td>0.19</td>\n",
       "      <td>0.64</td>\n",
       "      <td>-0.45</td>\n",
       "      <td>-7.74</td>\n",
       "      <td>0.0000</td>\n",
       "      <td>*</td>\n",
       "      <td>Misaligned</td>\n",
       "    </tr>\n",
       "    <tr>\n",
       "      <th>11</th>\n",
       "      <td>Water Bottle</td>\n",
       "      <td>Agreeableness</td>\n",
       "      <td>0.26</td>\n",
       "      <td>0.17</td>\n",
       "      <td>0.09</td>\n",
       "      <td>1.25</td>\n",
       "      <td>0.2131</td>\n",
       "      <td></td>\n",
       "      <td>Aligned</td>\n",
       "    </tr>\n",
       "    <tr>\n",
       "      <th>12</th>\n",
       "      <td>Water Bottle</td>\n",
       "      <td>Conscientiousness</td>\n",
       "      <td>0.05</td>\n",
       "      <td>0.27</td>\n",
       "      <td>-0.22</td>\n",
       "      <td>-3.02</td>\n",
       "      <td>0.0025</td>\n",
       "      <td></td>\n",
       "      <td>Misaligned</td>\n",
       "    </tr>\n",
       "    <tr>\n",
       "      <th>13</th>\n",
       "      <td>Water Bottle</td>\n",
       "      <td>Neuroticism</td>\n",
       "      <td>-0.17</td>\n",
       "      <td>0.08</td>\n",
       "      <td>-0.25</td>\n",
       "      <td>-3.45</td>\n",
       "      <td>0.0006</td>\n",
       "      <td></td>\n",
       "      <td>Misaligned</td>\n",
       "    </tr>\n",
       "    <tr>\n",
       "      <th>14</th>\n",
       "      <td>Water Bottle</td>\n",
       "      <td>Openness</td>\n",
       "      <td>-0.03</td>\n",
       "      <td>0.57</td>\n",
       "      <td>-0.60</td>\n",
       "      <td>-9.17</td>\n",
       "      <td>0.0000</td>\n",
       "      <td>*</td>\n",
       "      <td>Misaligned</td>\n",
       "    </tr>\n",
       "  </tbody>\n",
       "</table>\n",
       "</div>"
      ],
      "text/plain": [
       "          Product   Trait-Matched Ad  Human ( r )  GPT-4o ( r )    Δr  \\\n",
       "0   Cabin Luggage       Extraversion         0.10          0.27 -0.17   \n",
       "1   Cabin Luggage      Agreeableness         0.26          0.21  0.05   \n",
       "2   Cabin Luggage  Conscientiousness         0.02          0.26 -0.24   \n",
       "3   Cabin Luggage        Neuroticism         0.03         -0.00  0.03   \n",
       "4   Cabin Luggage           Openness        -0.03          0.55 -0.58   \n",
       "5   Packing Cubes       Extraversion         0.17          0.34 -0.17   \n",
       "6   Packing Cubes      Agreeableness         0.39          0.23  0.16   \n",
       "7   Packing Cubes  Conscientiousness        -0.03          0.23 -0.26   \n",
       "8   Packing Cubes        Neuroticism        -0.00          0.00 -0.00   \n",
       "9   Packing Cubes           Openness         0.04          0.52 -0.48   \n",
       "10   Water Bottle       Extraversion         0.19          0.64 -0.45   \n",
       "11   Water Bottle      Agreeableness         0.26          0.17  0.09   \n",
       "12   Water Bottle  Conscientiousness         0.05          0.27 -0.22   \n",
       "13   Water Bottle        Neuroticism        -0.17          0.08 -0.25   \n",
       "14   Water Bottle           Openness        -0.03          0.57 -0.60   \n",
       "\n",
       "    z-statistics  p-value Significance   Alignment  \n",
       "0          -2.38   0.0173               Misaligned  \n",
       "1           0.70   0.4851                  Aligned  \n",
       "2          -3.41   0.0007               Misaligned  \n",
       "3           0.40   0.6902                  Aligned  \n",
       "4          -8.82   0.0000            *  Misaligned  \n",
       "5          -2.46   0.0140               Misaligned  \n",
       "6           2.46   0.0140               Misaligned  \n",
       "7          -3.58   0.0003               Misaligned  \n",
       "8          -0.01   0.9902                  Aligned  \n",
       "9          -7.24   0.0000            *  Misaligned  \n",
       "10         -7.74   0.0000            *  Misaligned  \n",
       "11          1.25   0.2131                  Aligned  \n",
       "12         -3.02   0.0025               Misaligned  \n",
       "13         -3.45   0.0006               Misaligned  \n",
       "14         -9.17   0.0000            *  Misaligned  "
      ]
     },
     "execution_count": 254,
     "metadata": {},
     "output_type": "execute_result"
    }
   ],
   "source": [
    "df_z_gpt4o"
   ]
  },
  {
   "cell_type": "code",
   "execution_count": 309,
   "id": "b94d98ae",
   "metadata": {},
   "outputs": [
    {
     "data": {
      "application/vnd.plotly.v1+json": {
       "config": {
        "plotlyServerURL": "https://plot.ly"
       },
       "data": [
        {
         "line": {
          "color": "black",
          "width": 1
         },
         "mode": "lines",
         "opacity": 0.7,
         "showlegend": false,
         "type": "scatter",
         "x": [
          -0.03,
          0.55
         ],
         "xaxis": "x",
         "y": [
          "Openness",
          "Openness"
         ],
         "yaxis": "y"
        },
        {
         "marker": {
          "color": "red",
          "size": 10,
          "symbol": "circle"
         },
         "mode": "markers+text",
         "showlegend": false,
         "text": [
          "r=-0.03"
         ],
         "textposition": "middle left",
         "type": "scatter",
         "x": [
          -0.03
         ],
         "xaxis": "x",
         "y": [
          "Openness"
         ],
         "yaxis": "y"
        },
        {
         "marker": {
          "color": "red",
          "size": 10,
          "symbol": "square"
         },
         "mode": "markers+text",
         "showlegend": false,
         "text": [
          "r=0.55"
         ],
         "textposition": "middle right",
         "type": "scatter",
         "x": [
          0.55
         ],
         "xaxis": "x",
         "y": [
          "Openness"
         ],
         "yaxis": "y"
        },
        {
         "line": {
          "color": "black",
          "width": 1
         },
         "mode": "lines",
         "opacity": 0.7,
         "showlegend": false,
         "type": "scatter",
         "x": [
          0.02,
          0.26
         ],
         "xaxis": "x",
         "y": [
          "Conscientiousness",
          "Conscientiousness"
         ],
         "yaxis": "y"
        },
        {
         "marker": {
          "color": "red",
          "size": 10,
          "symbol": "circle"
         },
         "mode": "markers+text",
         "showlegend": false,
         "text": [
          "r=0.02"
         ],
         "textposition": "middle left",
         "type": "scatter",
         "x": [
          0.02
         ],
         "xaxis": "x",
         "y": [
          "Conscientiousness"
         ],
         "yaxis": "y"
        },
        {
         "marker": {
          "color": "red",
          "size": 10,
          "symbol": "square"
         },
         "mode": "markers+text",
         "showlegend": false,
         "text": [
          "r=0.26"
         ],
         "textposition": "middle right",
         "type": "scatter",
         "x": [
          0.26
         ],
         "xaxis": "x",
         "y": [
          "Conscientiousness"
         ],
         "yaxis": "y"
        },
        {
         "line": {
          "color": "black",
          "width": 1
         },
         "mode": "lines",
         "opacity": 0.7,
         "showlegend": false,
         "type": "scatter",
         "x": [
          0.1,
          0.27
         ],
         "xaxis": "x",
         "y": [
          "Extraversion",
          "Extraversion"
         ],
         "yaxis": "y"
        },
        {
         "marker": {
          "color": "red",
          "size": 10,
          "symbol": "circle"
         },
         "mode": "markers+text",
         "showlegend": false,
         "text": [
          "r=0.1"
         ],
         "textposition": "middle left",
         "type": "scatter",
         "x": [
          0.1
         ],
         "xaxis": "x",
         "y": [
          "Extraversion"
         ],
         "yaxis": "y"
        },
        {
         "marker": {
          "color": "red",
          "size": 10,
          "symbol": "square"
         },
         "mode": "markers+text",
         "showlegend": false,
         "text": [
          "r=0.27"
         ],
         "textposition": "middle right",
         "type": "scatter",
         "x": [
          0.27
         ],
         "xaxis": "x",
         "y": [
          "Extraversion"
         ],
         "yaxis": "y"
        },
        {
         "line": {
          "color": "black",
          "width": 1
         },
         "mode": "lines",
         "opacity": 0.7,
         "showlegend": false,
         "type": "scatter",
         "x": [
          0.26,
          0.21
         ],
         "xaxis": "x",
         "y": [
          "Agreeableness",
          "Agreeableness"
         ],
         "yaxis": "y"
        },
        {
         "marker": {
          "color": "green",
          "size": 10,
          "symbol": "circle"
         },
         "mode": "markers+text",
         "showlegend": false,
         "text": [
          "r=0.26"
         ],
         "textposition": "middle right",
         "type": "scatter",
         "x": [
          0.26
         ],
         "xaxis": "x",
         "y": [
          "Agreeableness"
         ],
         "yaxis": "y"
        },
        {
         "marker": {
          "color": "green",
          "size": 10,
          "symbol": "square"
         },
         "mode": "markers+text",
         "showlegend": false,
         "text": [
          "r=0.21"
         ],
         "textposition": "middle left",
         "type": "scatter",
         "x": [
          0.21
         ],
         "xaxis": "x",
         "y": [
          "Agreeableness"
         ],
         "yaxis": "y"
        },
        {
         "line": {
          "color": "black",
          "width": 1
         },
         "mode": "lines",
         "opacity": 0.7,
         "showlegend": false,
         "type": "scatter",
         "x": [
          0.03,
          0
         ],
         "xaxis": "x",
         "y": [
          "Neuroticism",
          "Neuroticism"
         ],
         "yaxis": "y"
        },
        {
         "marker": {
          "color": "green",
          "size": 10,
          "symbol": "circle"
         },
         "mode": "markers+text",
         "showlegend": false,
         "text": [
          "r=0.03"
         ],
         "textposition": "middle right",
         "type": "scatter",
         "x": [
          0.03
         ],
         "xaxis": "x",
         "y": [
          "Neuroticism"
         ],
         "yaxis": "y"
        },
        {
         "marker": {
          "color": "green",
          "size": 10,
          "symbol": "square"
         },
         "mode": "markers+text",
         "showlegend": false,
         "text": [
          "r=-0.0"
         ],
         "textposition": "middle left",
         "type": "scatter",
         "x": [
          0
         ],
         "xaxis": "x",
         "y": [
          "Neuroticism"
         ],
         "yaxis": "y"
        },
        {
         "line": {
          "color": "black",
          "width": 1
         },
         "mode": "lines",
         "opacity": 0.7,
         "showlegend": false,
         "type": "scatter",
         "x": [
          0.04,
          0.52
         ],
         "xaxis": "x2",
         "y": [
          "Openness",
          "Openness"
         ],
         "yaxis": "y2"
        },
        {
         "marker": {
          "color": "red",
          "size": 10,
          "symbol": "circle"
         },
         "mode": "markers+text",
         "showlegend": false,
         "text": [
          "r=0.04"
         ],
         "textposition": "middle left",
         "type": "scatter",
         "x": [
          0.04
         ],
         "xaxis": "x2",
         "y": [
          "Openness"
         ],
         "yaxis": "y2"
        },
        {
         "marker": {
          "color": "red",
          "size": 10,
          "symbol": "square"
         },
         "mode": "markers+text",
         "showlegend": false,
         "text": [
          "r=0.52"
         ],
         "textposition": "middle right",
         "type": "scatter",
         "x": [
          0.52
         ],
         "xaxis": "x2",
         "y": [
          "Openness"
         ],
         "yaxis": "y2"
        },
        {
         "line": {
          "color": "black",
          "width": 1
         },
         "mode": "lines",
         "opacity": 0.7,
         "showlegend": false,
         "type": "scatter",
         "x": [
          -0.03,
          0.23
         ],
         "xaxis": "x2",
         "y": [
          "Conscientiousness",
          "Conscientiousness"
         ],
         "yaxis": "y2"
        },
        {
         "marker": {
          "color": "red",
          "size": 10,
          "symbol": "circle"
         },
         "mode": "markers+text",
         "showlegend": false,
         "text": [
          "r=-0.03"
         ],
         "textposition": "middle left",
         "type": "scatter",
         "x": [
          -0.03
         ],
         "xaxis": "x2",
         "y": [
          "Conscientiousness"
         ],
         "yaxis": "y2"
        },
        {
         "marker": {
          "color": "red",
          "size": 10,
          "symbol": "square"
         },
         "mode": "markers+text",
         "showlegend": false,
         "text": [
          "r=0.23"
         ],
         "textposition": "middle right",
         "type": "scatter",
         "x": [
          0.23
         ],
         "xaxis": "x2",
         "y": [
          "Conscientiousness"
         ],
         "yaxis": "y2"
        },
        {
         "line": {
          "color": "black",
          "width": 1
         },
         "mode": "lines",
         "opacity": 0.7,
         "showlegend": false,
         "type": "scatter",
         "x": [
          0.17,
          0.34
         ],
         "xaxis": "x2",
         "y": [
          "Extraversion",
          "Extraversion"
         ],
         "yaxis": "y2"
        },
        {
         "marker": {
          "color": "red",
          "size": 10,
          "symbol": "circle"
         },
         "mode": "markers+text",
         "showlegend": false,
         "text": [
          "r=0.17"
         ],
         "textposition": "middle left",
         "type": "scatter",
         "x": [
          0.17
         ],
         "xaxis": "x2",
         "y": [
          "Extraversion"
         ],
         "yaxis": "y2"
        },
        {
         "marker": {
          "color": "red",
          "size": 10,
          "symbol": "square"
         },
         "mode": "markers+text",
         "showlegend": false,
         "text": [
          "r=0.34"
         ],
         "textposition": "middle right",
         "type": "scatter",
         "x": [
          0.34
         ],
         "xaxis": "x2",
         "y": [
          "Extraversion"
         ],
         "yaxis": "y2"
        },
        {
         "line": {
          "color": "black",
          "width": 1
         },
         "mode": "lines",
         "opacity": 0.7,
         "showlegend": false,
         "type": "scatter",
         "x": [
          0.39,
          0.23
         ],
         "xaxis": "x2",
         "y": [
          "Agreeableness",
          "Agreeableness"
         ],
         "yaxis": "y2"
        },
        {
         "marker": {
          "color": "red",
          "size": 10,
          "symbol": "circle"
         },
         "mode": "markers+text",
         "showlegend": false,
         "text": [
          "r=0.39"
         ],
         "textposition": "middle right",
         "type": "scatter",
         "x": [
          0.39
         ],
         "xaxis": "x2",
         "y": [
          "Agreeableness"
         ],
         "yaxis": "y2"
        },
        {
         "marker": {
          "color": "red",
          "size": 10,
          "symbol": "square"
         },
         "mode": "markers+text",
         "showlegend": false,
         "text": [
          "r=0.23"
         ],
         "textposition": "middle left",
         "type": "scatter",
         "x": [
          0.23
         ],
         "xaxis": "x2",
         "y": [
          "Agreeableness"
         ],
         "yaxis": "y2"
        },
        {
         "line": {
          "color": "black",
          "width": 1
         },
         "mode": "lines",
         "opacity": 0.7,
         "showlegend": false,
         "type": "scatter",
         "x": [
          0,
          0
         ],
         "xaxis": "x2",
         "y": [
          "Neuroticism",
          "Neuroticism"
         ],
         "yaxis": "y2"
        },
        {
         "marker": {
          "color": "green",
          "size": 10,
          "symbol": "circle"
         },
         "mode": "markers+text",
         "showlegend": false,
         "text": [
          "r=-0.0"
         ],
         "textposition": "middle right",
         "type": "scatter",
         "x": [
          0
         ],
         "xaxis": "x2",
         "y": [
          "Neuroticism"
         ],
         "yaxis": "y2"
        },
        {
         "marker": {
          "color": "green",
          "size": 10,
          "symbol": "square"
         },
         "mode": "markers+text",
         "showlegend": false,
         "text": [
          "r=0.0"
         ],
         "textposition": "middle left",
         "type": "scatter",
         "x": [
          0
         ],
         "xaxis": "x2",
         "y": [
          "Neuroticism"
         ],
         "yaxis": "y2"
        },
        {
         "line": {
          "color": "black",
          "width": 1
         },
         "mode": "lines",
         "opacity": 0.7,
         "showlegend": false,
         "type": "scatter",
         "x": [
          -0.03,
          0.57
         ],
         "xaxis": "x3",
         "y": [
          "Openness",
          "Openness"
         ],
         "yaxis": "y3"
        },
        {
         "marker": {
          "color": "red",
          "size": 10,
          "symbol": "circle"
         },
         "mode": "markers+text",
         "showlegend": false,
         "text": [
          "r=-0.03"
         ],
         "textposition": "middle left",
         "type": "scatter",
         "x": [
          -0.03
         ],
         "xaxis": "x3",
         "y": [
          "Openness"
         ],
         "yaxis": "y3"
        },
        {
         "marker": {
          "color": "red",
          "size": 10,
          "symbol": "square"
         },
         "mode": "markers+text",
         "showlegend": false,
         "text": [
          "r=0.57"
         ],
         "textposition": "middle right",
         "type": "scatter",
         "x": [
          0.57
         ],
         "xaxis": "x3",
         "y": [
          "Openness"
         ],
         "yaxis": "y3"
        },
        {
         "line": {
          "color": "black",
          "width": 1
         },
         "mode": "lines",
         "opacity": 0.7,
         "showlegend": false,
         "type": "scatter",
         "x": [
          0.05,
          0.27
         ],
         "xaxis": "x3",
         "y": [
          "Conscientiousness",
          "Conscientiousness"
         ],
         "yaxis": "y3"
        },
        {
         "marker": {
          "color": "red",
          "size": 10,
          "symbol": "circle"
         },
         "mode": "markers+text",
         "showlegend": false,
         "text": [
          "r=0.05"
         ],
         "textposition": "middle left",
         "type": "scatter",
         "x": [
          0.05
         ],
         "xaxis": "x3",
         "y": [
          "Conscientiousness"
         ],
         "yaxis": "y3"
        },
        {
         "marker": {
          "color": "red",
          "size": 10,
          "symbol": "square"
         },
         "mode": "markers+text",
         "showlegend": false,
         "text": [
          "r=0.27"
         ],
         "textposition": "middle right",
         "type": "scatter",
         "x": [
          0.27
         ],
         "xaxis": "x3",
         "y": [
          "Conscientiousness"
         ],
         "yaxis": "y3"
        },
        {
         "line": {
          "color": "black",
          "width": 1
         },
         "mode": "lines",
         "opacity": 0.7,
         "showlegend": false,
         "type": "scatter",
         "x": [
          0.19,
          0.64
         ],
         "xaxis": "x3",
         "y": [
          "Extraversion",
          "Extraversion"
         ],
         "yaxis": "y3"
        },
        {
         "marker": {
          "color": "red",
          "size": 10,
          "symbol": "circle"
         },
         "mode": "markers+text",
         "showlegend": false,
         "text": [
          "r=0.19"
         ],
         "textposition": "middle left",
         "type": "scatter",
         "x": [
          0.19
         ],
         "xaxis": "x3",
         "y": [
          "Extraversion"
         ],
         "yaxis": "y3"
        },
        {
         "marker": {
          "color": "red",
          "size": 10,
          "symbol": "square"
         },
         "mode": "markers+text",
         "showlegend": false,
         "text": [
          "r=0.64"
         ],
         "textposition": "middle right",
         "type": "scatter",
         "x": [
          0.64
         ],
         "xaxis": "x3",
         "y": [
          "Extraversion"
         ],
         "yaxis": "y3"
        },
        {
         "line": {
          "color": "black",
          "width": 1
         },
         "mode": "lines",
         "opacity": 0.7,
         "showlegend": false,
         "type": "scatter",
         "x": [
          0.26,
          0.17
         ],
         "xaxis": "x3",
         "y": [
          "Agreeableness",
          "Agreeableness"
         ],
         "yaxis": "y3"
        },
        {
         "marker": {
          "color": "green",
          "size": 10,
          "symbol": "circle"
         },
         "mode": "markers+text",
         "showlegend": false,
         "text": [
          "r=0.26"
         ],
         "textposition": "middle right",
         "type": "scatter",
         "x": [
          0.26
         ],
         "xaxis": "x3",
         "y": [
          "Agreeableness"
         ],
         "yaxis": "y3"
        },
        {
         "marker": {
          "color": "green",
          "size": 10,
          "symbol": "square"
         },
         "mode": "markers+text",
         "showlegend": false,
         "text": [
          "r=0.17"
         ],
         "textposition": "middle left",
         "type": "scatter",
         "x": [
          0.17
         ],
         "xaxis": "x3",
         "y": [
          "Agreeableness"
         ],
         "yaxis": "y3"
        },
        {
         "line": {
          "color": "black",
          "width": 1
         },
         "mode": "lines",
         "opacity": 0.7,
         "showlegend": false,
         "type": "scatter",
         "x": [
          -0.17,
          0.08
         ],
         "xaxis": "x3",
         "y": [
          "Neuroticism",
          "Neuroticism"
         ],
         "yaxis": "y3"
        },
        {
         "marker": {
          "color": "red",
          "size": 10,
          "symbol": "circle"
         },
         "mode": "markers+text",
         "showlegend": false,
         "text": [
          "r=-0.17"
         ],
         "textposition": "middle left",
         "type": "scatter",
         "x": [
          -0.17
         ],
         "xaxis": "x3",
         "y": [
          "Neuroticism"
         ],
         "yaxis": "y3"
        },
        {
         "marker": {
          "color": "red",
          "size": 10,
          "symbol": "square"
         },
         "mode": "markers+text",
         "showlegend": false,
         "text": [
          "r=0.08"
         ],
         "textposition": "middle right",
         "type": "scatter",
         "x": [
          0.08
         ],
         "xaxis": "x3",
         "y": [
          "Neuroticism"
         ],
         "yaxis": "y3"
        },
        {
         "marker": {
          "color": "gray",
          "size": 10,
          "symbol": "circle"
         },
         "mode": "markers",
         "name": "Humans",
         "type": "scatter",
         "x": [
          null
         ],
         "y": [
          null
         ]
        },
        {
         "marker": {
          "color": "gray",
          "size": 10,
          "symbol": "square"
         },
         "mode": "markers",
         "name": "Synthetic Twin",
         "type": "scatter",
         "x": [
          null
         ],
         "y": [
          null
         ]
        },
        {
         "marker": {
          "color": "green",
          "size": 10,
          "symbol": "circle"
         },
         "mode": "markers",
         "name": "Aligned",
         "type": "scatter",
         "x": [
          null
         ],
         "y": [
          null
         ]
        },
        {
         "marker": {
          "color": "red",
          "size": 10,
          "symbol": "circle"
         },
         "mode": "markers",
         "name": "Misaligned",
         "type": "scatter",
         "x": [
          null
         ],
         "y": [
          null
         ]
        }
       ],
       "layout": {
        "annotations": [
         {
          "font": {
           "size": 16
          },
          "showarrow": false,
          "text": "Cabin Luggage",
          "x": 0.5,
          "xanchor": "center",
          "xref": "paper",
          "y": 1,
          "yanchor": "bottom",
          "yref": "paper"
         },
         {
          "font": {
           "size": 16
          },
          "showarrow": false,
          "text": "Packing Cubes",
          "x": 0.5,
          "xanchor": "center",
          "xref": "paper",
          "y": 0.6333333333333333,
          "yanchor": "bottom",
          "yref": "paper"
         },
         {
          "font": {
           "size": 16
          },
          "showarrow": false,
          "text": "Water Bottle",
          "x": 0.5,
          "xanchor": "center",
          "xref": "paper",
          "y": 0.26666666666666666,
          "yanchor": "bottom",
          "yref": "paper"
         }
        ],
        "height": 1400,
        "legend": {
         "borderwidth": 0,
         "font": {
          "size": 12
         },
         "traceorder": "normal",
         "x": 1.02,
         "y": 1
        },
        "margin": {
         "b": 80,
         "l": 100,
         "r": 220,
         "t": 100
        },
        "template": {
         "data": {
          "bar": [
           {
            "error_x": {
             "color": "#2a3f5f"
            },
            "error_y": {
             "color": "#2a3f5f"
            },
            "marker": {
             "line": {
              "color": "#E5ECF6",
              "width": 0.5
             },
             "pattern": {
              "fillmode": "overlay",
              "size": 10,
              "solidity": 0.2
             }
            },
            "type": "bar"
           }
          ],
          "barpolar": [
           {
            "marker": {
             "line": {
              "color": "#E5ECF6",
              "width": 0.5
             },
             "pattern": {
              "fillmode": "overlay",
              "size": 10,
              "solidity": 0.2
             }
            },
            "type": "barpolar"
           }
          ],
          "carpet": [
           {
            "aaxis": {
             "endlinecolor": "#2a3f5f",
             "gridcolor": "white",
             "linecolor": "white",
             "minorgridcolor": "white",
             "startlinecolor": "#2a3f5f"
            },
            "baxis": {
             "endlinecolor": "#2a3f5f",
             "gridcolor": "white",
             "linecolor": "white",
             "minorgridcolor": "white",
             "startlinecolor": "#2a3f5f"
            },
            "type": "carpet"
           }
          ],
          "choropleth": [
           {
            "colorbar": {
             "outlinewidth": 0,
             "ticks": ""
            },
            "type": "choropleth"
           }
          ],
          "contour": [
           {
            "colorbar": {
             "outlinewidth": 0,
             "ticks": ""
            },
            "colorscale": [
             [
              0,
              "#0d0887"
             ],
             [
              0.1111111111111111,
              "#46039f"
             ],
             [
              0.2222222222222222,
              "#7201a8"
             ],
             [
              0.3333333333333333,
              "#9c179e"
             ],
             [
              0.4444444444444444,
              "#bd3786"
             ],
             [
              0.5555555555555556,
              "#d8576b"
             ],
             [
              0.6666666666666666,
              "#ed7953"
             ],
             [
              0.7777777777777778,
              "#fb9f3a"
             ],
             [
              0.8888888888888888,
              "#fdca26"
             ],
             [
              1,
              "#f0f921"
             ]
            ],
            "type": "contour"
           }
          ],
          "contourcarpet": [
           {
            "colorbar": {
             "outlinewidth": 0,
             "ticks": ""
            },
            "type": "contourcarpet"
           }
          ],
          "heatmap": [
           {
            "colorbar": {
             "outlinewidth": 0,
             "ticks": ""
            },
            "colorscale": [
             [
              0,
              "#0d0887"
             ],
             [
              0.1111111111111111,
              "#46039f"
             ],
             [
              0.2222222222222222,
              "#7201a8"
             ],
             [
              0.3333333333333333,
              "#9c179e"
             ],
             [
              0.4444444444444444,
              "#bd3786"
             ],
             [
              0.5555555555555556,
              "#d8576b"
             ],
             [
              0.6666666666666666,
              "#ed7953"
             ],
             [
              0.7777777777777778,
              "#fb9f3a"
             ],
             [
              0.8888888888888888,
              "#fdca26"
             ],
             [
              1,
              "#f0f921"
             ]
            ],
            "type": "heatmap"
           }
          ],
          "histogram": [
           {
            "marker": {
             "pattern": {
              "fillmode": "overlay",
              "size": 10,
              "solidity": 0.2
             }
            },
            "type": "histogram"
           }
          ],
          "histogram2d": [
           {
            "colorbar": {
             "outlinewidth": 0,
             "ticks": ""
            },
            "colorscale": [
             [
              0,
              "#0d0887"
             ],
             [
              0.1111111111111111,
              "#46039f"
             ],
             [
              0.2222222222222222,
              "#7201a8"
             ],
             [
              0.3333333333333333,
              "#9c179e"
             ],
             [
              0.4444444444444444,
              "#bd3786"
             ],
             [
              0.5555555555555556,
              "#d8576b"
             ],
             [
              0.6666666666666666,
              "#ed7953"
             ],
             [
              0.7777777777777778,
              "#fb9f3a"
             ],
             [
              0.8888888888888888,
              "#fdca26"
             ],
             [
              1,
              "#f0f921"
             ]
            ],
            "type": "histogram2d"
           }
          ],
          "histogram2dcontour": [
           {
            "colorbar": {
             "outlinewidth": 0,
             "ticks": ""
            },
            "colorscale": [
             [
              0,
              "#0d0887"
             ],
             [
              0.1111111111111111,
              "#46039f"
             ],
             [
              0.2222222222222222,
              "#7201a8"
             ],
             [
              0.3333333333333333,
              "#9c179e"
             ],
             [
              0.4444444444444444,
              "#bd3786"
             ],
             [
              0.5555555555555556,
              "#d8576b"
             ],
             [
              0.6666666666666666,
              "#ed7953"
             ],
             [
              0.7777777777777778,
              "#fb9f3a"
             ],
             [
              0.8888888888888888,
              "#fdca26"
             ],
             [
              1,
              "#f0f921"
             ]
            ],
            "type": "histogram2dcontour"
           }
          ],
          "mesh3d": [
           {
            "colorbar": {
             "outlinewidth": 0,
             "ticks": ""
            },
            "type": "mesh3d"
           }
          ],
          "parcoords": [
           {
            "line": {
             "colorbar": {
              "outlinewidth": 0,
              "ticks": ""
             }
            },
            "type": "parcoords"
           }
          ],
          "pie": [
           {
            "automargin": true,
            "type": "pie"
           }
          ],
          "scatter": [
           {
            "fillpattern": {
             "fillmode": "overlay",
             "size": 10,
             "solidity": 0.2
            },
            "type": "scatter"
           }
          ],
          "scatter3d": [
           {
            "line": {
             "colorbar": {
              "outlinewidth": 0,
              "ticks": ""
             }
            },
            "marker": {
             "colorbar": {
              "outlinewidth": 0,
              "ticks": ""
             }
            },
            "type": "scatter3d"
           }
          ],
          "scattercarpet": [
           {
            "marker": {
             "colorbar": {
              "outlinewidth": 0,
              "ticks": ""
             }
            },
            "type": "scattercarpet"
           }
          ],
          "scattergeo": [
           {
            "marker": {
             "colorbar": {
              "outlinewidth": 0,
              "ticks": ""
             }
            },
            "type": "scattergeo"
           }
          ],
          "scattergl": [
           {
            "marker": {
             "colorbar": {
              "outlinewidth": 0,
              "ticks": ""
             }
            },
            "type": "scattergl"
           }
          ],
          "scattermap": [
           {
            "marker": {
             "colorbar": {
              "outlinewidth": 0,
              "ticks": ""
             }
            },
            "type": "scattermap"
           }
          ],
          "scattermapbox": [
           {
            "marker": {
             "colorbar": {
              "outlinewidth": 0,
              "ticks": ""
             }
            },
            "type": "scattermapbox"
           }
          ],
          "scatterpolar": [
           {
            "marker": {
             "colorbar": {
              "outlinewidth": 0,
              "ticks": ""
             }
            },
            "type": "scatterpolar"
           }
          ],
          "scatterpolargl": [
           {
            "marker": {
             "colorbar": {
              "outlinewidth": 0,
              "ticks": ""
             }
            },
            "type": "scatterpolargl"
           }
          ],
          "scatterternary": [
           {
            "marker": {
             "colorbar": {
              "outlinewidth": 0,
              "ticks": ""
             }
            },
            "type": "scatterternary"
           }
          ],
          "surface": [
           {
            "colorbar": {
             "outlinewidth": 0,
             "ticks": ""
            },
            "colorscale": [
             [
              0,
              "#0d0887"
             ],
             [
              0.1111111111111111,
              "#46039f"
             ],
             [
              0.2222222222222222,
              "#7201a8"
             ],
             [
              0.3333333333333333,
              "#9c179e"
             ],
             [
              0.4444444444444444,
              "#bd3786"
             ],
             [
              0.5555555555555556,
              "#d8576b"
             ],
             [
              0.6666666666666666,
              "#ed7953"
             ],
             [
              0.7777777777777778,
              "#fb9f3a"
             ],
             [
              0.8888888888888888,
              "#fdca26"
             ],
             [
              1,
              "#f0f921"
             ]
            ],
            "type": "surface"
           }
          ],
          "table": [
           {
            "cells": {
             "fill": {
              "color": "#EBF0F8"
             },
             "line": {
              "color": "white"
             }
            },
            "header": {
             "fill": {
              "color": "#C8D4E3"
             },
             "line": {
              "color": "white"
             }
            },
            "type": "table"
           }
          ]
         },
         "layout": {
          "annotationdefaults": {
           "arrowcolor": "#2a3f5f",
           "arrowhead": 0,
           "arrowwidth": 1
          },
          "autotypenumbers": "strict",
          "coloraxis": {
           "colorbar": {
            "outlinewidth": 0,
            "ticks": ""
           }
          },
          "colorscale": {
           "diverging": [
            [
             0,
             "#8e0152"
            ],
            [
             0.1,
             "#c51b7d"
            ],
            [
             0.2,
             "#de77ae"
            ],
            [
             0.3,
             "#f1b6da"
            ],
            [
             0.4,
             "#fde0ef"
            ],
            [
             0.5,
             "#f7f7f7"
            ],
            [
             0.6,
             "#e6f5d0"
            ],
            [
             0.7,
             "#b8e186"
            ],
            [
             0.8,
             "#7fbc41"
            ],
            [
             0.9,
             "#4d9221"
            ],
            [
             1,
             "#276419"
            ]
           ],
           "sequential": [
            [
             0,
             "#0d0887"
            ],
            [
             0.1111111111111111,
             "#46039f"
            ],
            [
             0.2222222222222222,
             "#7201a8"
            ],
            [
             0.3333333333333333,
             "#9c179e"
            ],
            [
             0.4444444444444444,
             "#bd3786"
            ],
            [
             0.5555555555555556,
             "#d8576b"
            ],
            [
             0.6666666666666666,
             "#ed7953"
            ],
            [
             0.7777777777777778,
             "#fb9f3a"
            ],
            [
             0.8888888888888888,
             "#fdca26"
            ],
            [
             1,
             "#f0f921"
            ]
           ],
           "sequentialminus": [
            [
             0,
             "#0d0887"
            ],
            [
             0.1111111111111111,
             "#46039f"
            ],
            [
             0.2222222222222222,
             "#7201a8"
            ],
            [
             0.3333333333333333,
             "#9c179e"
            ],
            [
             0.4444444444444444,
             "#bd3786"
            ],
            [
             0.5555555555555556,
             "#d8576b"
            ],
            [
             0.6666666666666666,
             "#ed7953"
            ],
            [
             0.7777777777777778,
             "#fb9f3a"
            ],
            [
             0.8888888888888888,
             "#fdca26"
            ],
            [
             1,
             "#f0f921"
            ]
           ]
          },
          "colorway": [
           "#636efa",
           "#EF553B",
           "#00cc96",
           "#ab63fa",
           "#FFA15A",
           "#19d3f3",
           "#FF6692",
           "#B6E880",
           "#FF97FF",
           "#FECB52"
          ],
          "font": {
           "color": "#2a3f5f"
          },
          "geo": {
           "bgcolor": "white",
           "lakecolor": "white",
           "landcolor": "#E5ECF6",
           "showlakes": true,
           "showland": true,
           "subunitcolor": "white"
          },
          "hoverlabel": {
           "align": "left"
          },
          "hovermode": "closest",
          "mapbox": {
           "style": "light"
          },
          "paper_bgcolor": "white",
          "plot_bgcolor": "#E5ECF6",
          "polar": {
           "angularaxis": {
            "gridcolor": "white",
            "linecolor": "white",
            "ticks": ""
           },
           "bgcolor": "#E5ECF6",
           "radialaxis": {
            "gridcolor": "white",
            "linecolor": "white",
            "ticks": ""
           }
          },
          "scene": {
           "xaxis": {
            "backgroundcolor": "#E5ECF6",
            "gridcolor": "white",
            "gridwidth": 2,
            "linecolor": "white",
            "showbackground": true,
            "ticks": "",
            "zerolinecolor": "white"
           },
           "yaxis": {
            "backgroundcolor": "#E5ECF6",
            "gridcolor": "white",
            "gridwidth": 2,
            "linecolor": "white",
            "showbackground": true,
            "ticks": "",
            "zerolinecolor": "white"
           },
           "zaxis": {
            "backgroundcolor": "#E5ECF6",
            "gridcolor": "white",
            "gridwidth": 2,
            "linecolor": "white",
            "showbackground": true,
            "ticks": "",
            "zerolinecolor": "white"
           }
          },
          "shapedefaults": {
           "line": {
            "color": "#2a3f5f"
           }
          },
          "ternary": {
           "aaxis": {
            "gridcolor": "white",
            "linecolor": "white",
            "ticks": ""
           },
           "baxis": {
            "gridcolor": "white",
            "linecolor": "white",
            "ticks": ""
           },
           "bgcolor": "#E5ECF6",
           "caxis": {
            "gridcolor": "white",
            "linecolor": "white",
            "ticks": ""
           }
          },
          "title": {
           "x": 0.05
          },
          "xaxis": {
           "automargin": true,
           "gridcolor": "white",
           "linecolor": "white",
           "ticks": "",
           "title": {
            "standoff": 15
           },
           "zerolinecolor": "white",
           "zerolinewidth": 2
          },
          "yaxis": {
           "automargin": true,
           "gridcolor": "white",
           "linecolor": "white",
           "ticks": "",
           "title": {
            "standoff": 15
           },
           "zerolinecolor": "white",
           "zerolinewidth": 2
          }
         }
        },
        "title": {
         "text": "Alignment Between Humans and Synthetic Twins (GPT-4o)"
        },
        "width": 1300,
        "xaxis": {
         "anchor": "y",
         "domain": [
          0,
          1
         ],
         "range": [
          -0.08020000000000001,
          0.6000000000000001
         ],
         "title": {
          "text": "Correlation"
         }
        },
        "xaxis2": {
         "anchor": "y2",
         "domain": [
          0,
          1
         ],
         "range": [
          -0.07880000000000001,
          0.5700000000000001
         ],
         "title": {
          "text": "Correlation"
         }
        },
        "xaxis3": {
         "anchor": "y3",
         "domain": [
          0,
          1
         ],
         "range": [
          -0.22160000000000002,
          0.6900000000000001
         ],
         "title": {
          "text": "Correlation"
         }
        },
        "yaxis": {
         "anchor": "x",
         "categoryarray": [
          "Neuroticism",
          "Agreeableness",
          "Extraversion",
          "Conscientiousness",
          "Openness"
         ],
         "categoryorder": "array",
         "domain": [
          0.7333333333333334,
          1
         ]
        },
        "yaxis2": {
         "anchor": "x2",
         "categoryarray": [
          "Neuroticism",
          "Agreeableness",
          "Extraversion",
          "Conscientiousness",
          "Openness"
         ],
         "categoryorder": "array",
         "domain": [
          0.3666666666666667,
          0.6333333333333333
         ]
        },
        "yaxis3": {
         "anchor": "x3",
         "categoryarray": [
          "Neuroticism",
          "Agreeableness",
          "Extraversion",
          "Conscientiousness",
          "Openness"
         ],
         "categoryorder": "array",
         "domain": [
          0,
          0.26666666666666666
         ]
        }
       }
      }
     },
     "metadata": {},
     "output_type": "display_data"
    }
   ],
   "source": [
    "plot_alignment_with_humans(\"gpt\")"
   ]
  },
  {
   "cell_type": "code",
   "execution_count": 251,
   "id": "3ad44b4d",
   "metadata": {},
   "outputs": [
    {
     "data": {
      "text/html": [
       "<div>\n",
       "<style scoped>\n",
       "    .dataframe tbody tr th:only-of-type {\n",
       "        vertical-align: middle;\n",
       "    }\n",
       "\n",
       "    .dataframe tbody tr th {\n",
       "        vertical-align: top;\n",
       "    }\n",
       "\n",
       "    .dataframe thead th {\n",
       "        text-align: right;\n",
       "    }\n",
       "</style>\n",
       "<table border=\"1\" class=\"dataframe\">\n",
       "  <thead>\n",
       "    <tr style=\"text-align: right;\">\n",
       "      <th></th>\n",
       "      <th>Product</th>\n",
       "      <th>Trait-Matched Ad</th>\n",
       "      <th>Human ( r )</th>\n",
       "      <th>Gemini ( r )</th>\n",
       "      <th>Δr</th>\n",
       "      <th>z-statistics</th>\n",
       "      <th>p-value</th>\n",
       "      <th>Significance</th>\n",
       "      <th>Alignment</th>\n",
       "    </tr>\n",
       "  </thead>\n",
       "  <tbody>\n",
       "    <tr>\n",
       "      <th>0</th>\n",
       "      <td>Cabin Luggage</td>\n",
       "      <td>Extraversion</td>\n",
       "      <td>0.10</td>\n",
       "      <td>0.18</td>\n",
       "      <td>-0.08</td>\n",
       "      <td>-1.09</td>\n",
       "      <td>0.2758</td>\n",
       "      <td></td>\n",
       "      <td>Aligned</td>\n",
       "    </tr>\n",
       "    <tr>\n",
       "      <th>1</th>\n",
       "      <td>Cabin Luggage</td>\n",
       "      <td>Agreeableness</td>\n",
       "      <td>0.26</td>\n",
       "      <td>0.24</td>\n",
       "      <td>0.02</td>\n",
       "      <td>0.27</td>\n",
       "      <td>0.7885</td>\n",
       "      <td></td>\n",
       "      <td>Aligned</td>\n",
       "    </tr>\n",
       "    <tr>\n",
       "      <th>2</th>\n",
       "      <td>Cabin Luggage</td>\n",
       "      <td>Conscientiousness</td>\n",
       "      <td>0.02</td>\n",
       "      <td>0.28</td>\n",
       "      <td>-0.26</td>\n",
       "      <td>-3.70</td>\n",
       "      <td>0.0002</td>\n",
       "      <td>*</td>\n",
       "      <td>Misaligned</td>\n",
       "    </tr>\n",
       "    <tr>\n",
       "      <th>3</th>\n",
       "      <td>Cabin Luggage</td>\n",
       "      <td>Neuroticism</td>\n",
       "      <td>0.03</td>\n",
       "      <td>0.08</td>\n",
       "      <td>-0.05</td>\n",
       "      <td>-0.69</td>\n",
       "      <td>0.4891</td>\n",
       "      <td></td>\n",
       "      <td>Aligned</td>\n",
       "    </tr>\n",
       "    <tr>\n",
       "      <th>4</th>\n",
       "      <td>Cabin Luggage</td>\n",
       "      <td>Openness</td>\n",
       "      <td>-0.03</td>\n",
       "      <td>0.29</td>\n",
       "      <td>-0.32</td>\n",
       "      <td>-4.47</td>\n",
       "      <td>0.0000</td>\n",
       "      <td>*</td>\n",
       "      <td>Misaligned</td>\n",
       "    </tr>\n",
       "    <tr>\n",
       "      <th>5</th>\n",
       "      <td>Packing Cubes</td>\n",
       "      <td>Extraversion</td>\n",
       "      <td>0.17</td>\n",
       "      <td>0.26</td>\n",
       "      <td>-0.09</td>\n",
       "      <td>-1.26</td>\n",
       "      <td>0.2074</td>\n",
       "      <td></td>\n",
       "      <td>Aligned</td>\n",
       "    </tr>\n",
       "    <tr>\n",
       "      <th>6</th>\n",
       "      <td>Packing Cubes</td>\n",
       "      <td>Agreeableness</td>\n",
       "      <td>0.39</td>\n",
       "      <td>0.22</td>\n",
       "      <td>0.17</td>\n",
       "      <td>2.60</td>\n",
       "      <td>0.0093</td>\n",
       "      <td></td>\n",
       "      <td>Misaligned</td>\n",
       "    </tr>\n",
       "    <tr>\n",
       "      <th>7</th>\n",
       "      <td>Packing Cubes</td>\n",
       "      <td>Conscientiousness</td>\n",
       "      <td>-0.03</td>\n",
       "      <td>0.19</td>\n",
       "      <td>-0.22</td>\n",
       "      <td>-3.01</td>\n",
       "      <td>0.0026</td>\n",
       "      <td></td>\n",
       "      <td>Misaligned</td>\n",
       "    </tr>\n",
       "    <tr>\n",
       "      <th>8</th>\n",
       "      <td>Packing Cubes</td>\n",
       "      <td>Neuroticism</td>\n",
       "      <td>-0.00</td>\n",
       "      <td>0.14</td>\n",
       "      <td>-0.14</td>\n",
       "      <td>-1.93</td>\n",
       "      <td>0.0537</td>\n",
       "      <td></td>\n",
       "      <td>Misaligned</td>\n",
       "    </tr>\n",
       "    <tr>\n",
       "      <th>9</th>\n",
       "      <td>Packing Cubes</td>\n",
       "      <td>Openness</td>\n",
       "      <td>0.04</td>\n",
       "      <td>0.35</td>\n",
       "      <td>-0.31</td>\n",
       "      <td>-4.37</td>\n",
       "      <td>0.0000</td>\n",
       "      <td>*</td>\n",
       "      <td>Misaligned</td>\n",
       "    </tr>\n",
       "    <tr>\n",
       "      <th>10</th>\n",
       "      <td>Water Bottle</td>\n",
       "      <td>Extraversion</td>\n",
       "      <td>0.19</td>\n",
       "      <td>0.37</td>\n",
       "      <td>-0.18</td>\n",
       "      <td>-2.72</td>\n",
       "      <td>0.0066</td>\n",
       "      <td></td>\n",
       "      <td>Misaligned</td>\n",
       "    </tr>\n",
       "    <tr>\n",
       "      <th>11</th>\n",
       "      <td>Water Bottle</td>\n",
       "      <td>Agreeableness</td>\n",
       "      <td>0.26</td>\n",
       "      <td>0.18</td>\n",
       "      <td>0.08</td>\n",
       "      <td>1.10</td>\n",
       "      <td>0.2692</td>\n",
       "      <td></td>\n",
       "      <td>Aligned</td>\n",
       "    </tr>\n",
       "    <tr>\n",
       "      <th>12</th>\n",
       "      <td>Water Bottle</td>\n",
       "      <td>Conscientiousness</td>\n",
       "      <td>0.05</td>\n",
       "      <td>0.09</td>\n",
       "      <td>-0.04</td>\n",
       "      <td>-0.49</td>\n",
       "      <td>0.6274</td>\n",
       "      <td></td>\n",
       "      <td>Aligned</td>\n",
       "    </tr>\n",
       "    <tr>\n",
       "      <th>13</th>\n",
       "      <td>Water Bottle</td>\n",
       "      <td>Neuroticism</td>\n",
       "      <td>-0.17</td>\n",
       "      <td>-0.21</td>\n",
       "      <td>0.04</td>\n",
       "      <td>0.54</td>\n",
       "      <td>0.5877</td>\n",
       "      <td></td>\n",
       "      <td>Aligned</td>\n",
       "    </tr>\n",
       "    <tr>\n",
       "      <th>14</th>\n",
       "      <td>Water Bottle</td>\n",
       "      <td>Openness</td>\n",
       "      <td>-0.03</td>\n",
       "      <td>0.42</td>\n",
       "      <td>-0.45</td>\n",
       "      <td>-6.45</td>\n",
       "      <td>0.0000</td>\n",
       "      <td>*</td>\n",
       "      <td>Misaligned</td>\n",
       "    </tr>\n",
       "  </tbody>\n",
       "</table>\n",
       "</div>"
      ],
      "text/plain": [
       "          Product   Trait-Matched Ad  Human ( r )  Gemini ( r )    Δr  \\\n",
       "0   Cabin Luggage       Extraversion         0.10          0.18 -0.08   \n",
       "1   Cabin Luggage      Agreeableness         0.26          0.24  0.02   \n",
       "2   Cabin Luggage  Conscientiousness         0.02          0.28 -0.26   \n",
       "3   Cabin Luggage        Neuroticism         0.03          0.08 -0.05   \n",
       "4   Cabin Luggage           Openness        -0.03          0.29 -0.32   \n",
       "5   Packing Cubes       Extraversion         0.17          0.26 -0.09   \n",
       "6   Packing Cubes      Agreeableness         0.39          0.22  0.17   \n",
       "7   Packing Cubes  Conscientiousness        -0.03          0.19 -0.22   \n",
       "8   Packing Cubes        Neuroticism        -0.00          0.14 -0.14   \n",
       "9   Packing Cubes           Openness         0.04          0.35 -0.31   \n",
       "10   Water Bottle       Extraversion         0.19          0.37 -0.18   \n",
       "11   Water Bottle      Agreeableness         0.26          0.18  0.08   \n",
       "12   Water Bottle  Conscientiousness         0.05          0.09 -0.04   \n",
       "13   Water Bottle        Neuroticism        -0.17         -0.21  0.04   \n",
       "14   Water Bottle           Openness        -0.03          0.42 -0.45   \n",
       "\n",
       "    z-statistics  p-value Significance   Alignment  \n",
       "0          -1.09   0.2758                  Aligned  \n",
       "1           0.27   0.7885                  Aligned  \n",
       "2          -3.70   0.0002            *  Misaligned  \n",
       "3          -0.69   0.4891                  Aligned  \n",
       "4          -4.47   0.0000            *  Misaligned  \n",
       "5          -1.26   0.2074                  Aligned  \n",
       "6           2.60   0.0093               Misaligned  \n",
       "7          -3.01   0.0026               Misaligned  \n",
       "8          -1.93   0.0537               Misaligned  \n",
       "9          -4.37   0.0000            *  Misaligned  \n",
       "10         -2.72   0.0066               Misaligned  \n",
       "11          1.10   0.2692                  Aligned  \n",
       "12         -0.49   0.6274                  Aligned  \n",
       "13          0.54   0.5877                  Aligned  \n",
       "14         -6.45   0.0000            *  Misaligned  "
      ]
     },
     "execution_count": 251,
     "metadata": {},
     "output_type": "execute_result"
    }
   ],
   "source": [
    "df_z_gemini"
   ]
  },
  {
   "cell_type": "code",
   "execution_count": 310,
   "id": "dbb6b15e",
   "metadata": {},
   "outputs": [
    {
     "data": {
      "application/vnd.plotly.v1+json": {
       "config": {
        "plotlyServerURL": "https://plot.ly"
       },
       "data": [
        {
         "line": {
          "color": "black",
          "width": 1
         },
         "mode": "lines",
         "opacity": 0.7,
         "showlegend": false,
         "type": "scatter",
         "x": [
          -0.03,
          0.29
         ],
         "xaxis": "x",
         "y": [
          "Openness",
          "Openness"
         ],
         "yaxis": "y"
        },
        {
         "marker": {
          "color": "red",
          "size": 10,
          "symbol": "circle"
         },
         "mode": "markers+text",
         "showlegend": false,
         "text": [
          "r=-0.03"
         ],
         "textposition": "middle left",
         "type": "scatter",
         "x": [
          -0.03
         ],
         "xaxis": "x",
         "y": [
          "Openness"
         ],
         "yaxis": "y"
        },
        {
         "marker": {
          "color": "red",
          "size": 10,
          "symbol": "square"
         },
         "mode": "markers+text",
         "showlegend": false,
         "text": [
          "r=0.29"
         ],
         "textposition": "middle right",
         "type": "scatter",
         "x": [
          0.29
         ],
         "xaxis": "x",
         "y": [
          "Openness"
         ],
         "yaxis": "y"
        },
        {
         "line": {
          "color": "black",
          "width": 1
         },
         "mode": "lines",
         "opacity": 0.7,
         "showlegend": false,
         "type": "scatter",
         "x": [
          0.02,
          0.28
         ],
         "xaxis": "x",
         "y": [
          "Conscientiousness",
          "Conscientiousness"
         ],
         "yaxis": "y"
        },
        {
         "marker": {
          "color": "red",
          "size": 10,
          "symbol": "circle"
         },
         "mode": "markers+text",
         "showlegend": false,
         "text": [
          "r=0.02"
         ],
         "textposition": "middle left",
         "type": "scatter",
         "x": [
          0.02
         ],
         "xaxis": "x",
         "y": [
          "Conscientiousness"
         ],
         "yaxis": "y"
        },
        {
         "marker": {
          "color": "red",
          "size": 10,
          "symbol": "square"
         },
         "mode": "markers+text",
         "showlegend": false,
         "text": [
          "r=0.28"
         ],
         "textposition": "middle right",
         "type": "scatter",
         "x": [
          0.28
         ],
         "xaxis": "x",
         "y": [
          "Conscientiousness"
         ],
         "yaxis": "y"
        },
        {
         "line": {
          "color": "black",
          "width": 1
         },
         "mode": "lines",
         "opacity": 0.7,
         "showlegend": false,
         "type": "scatter",
         "x": [
          0.1,
          0.18
         ],
         "xaxis": "x",
         "y": [
          "Extraversion",
          "Extraversion"
         ],
         "yaxis": "y"
        },
        {
         "marker": {
          "color": "green",
          "size": 10,
          "symbol": "circle"
         },
         "mode": "markers+text",
         "showlegend": false,
         "text": [
          "r=0.1"
         ],
         "textposition": "middle left",
         "type": "scatter",
         "x": [
          0.1
         ],
         "xaxis": "x",
         "y": [
          "Extraversion"
         ],
         "yaxis": "y"
        },
        {
         "marker": {
          "color": "green",
          "size": 10,
          "symbol": "square"
         },
         "mode": "markers+text",
         "showlegend": false,
         "text": [
          "r=0.18"
         ],
         "textposition": "middle right",
         "type": "scatter",
         "x": [
          0.18
         ],
         "xaxis": "x",
         "y": [
          "Extraversion"
         ],
         "yaxis": "y"
        },
        {
         "line": {
          "color": "black",
          "width": 1
         },
         "mode": "lines",
         "opacity": 0.7,
         "showlegend": false,
         "type": "scatter",
         "x": [
          0.26,
          0.24
         ],
         "xaxis": "x",
         "y": [
          "Agreeableness",
          "Agreeableness"
         ],
         "yaxis": "y"
        },
        {
         "marker": {
          "color": "green",
          "size": 10,
          "symbol": "circle"
         },
         "mode": "markers+text",
         "showlegend": false,
         "text": [
          "r=0.26"
         ],
         "textposition": "middle right",
         "type": "scatter",
         "x": [
          0.26
         ],
         "xaxis": "x",
         "y": [
          "Agreeableness"
         ],
         "yaxis": "y"
        },
        {
         "marker": {
          "color": "green",
          "size": 10,
          "symbol": "square"
         },
         "mode": "markers+text",
         "showlegend": false,
         "text": [
          "r=0.24"
         ],
         "textposition": "middle left",
         "type": "scatter",
         "x": [
          0.24
         ],
         "xaxis": "x",
         "y": [
          "Agreeableness"
         ],
         "yaxis": "y"
        },
        {
         "line": {
          "color": "black",
          "width": 1
         },
         "mode": "lines",
         "opacity": 0.7,
         "showlegend": false,
         "type": "scatter",
         "x": [
          0.03,
          0.08
         ],
         "xaxis": "x",
         "y": [
          "Neuroticism",
          "Neuroticism"
         ],
         "yaxis": "y"
        },
        {
         "marker": {
          "color": "green",
          "size": 10,
          "symbol": "circle"
         },
         "mode": "markers+text",
         "showlegend": false,
         "text": [
          "r=0.03"
         ],
         "textposition": "middle left",
         "type": "scatter",
         "x": [
          0.03
         ],
         "xaxis": "x",
         "y": [
          "Neuroticism"
         ],
         "yaxis": "y"
        },
        {
         "marker": {
          "color": "green",
          "size": 10,
          "symbol": "square"
         },
         "mode": "markers+text",
         "showlegend": false,
         "text": [
          "r=0.08"
         ],
         "textposition": "middle right",
         "type": "scatter",
         "x": [
          0.08
         ],
         "xaxis": "x",
         "y": [
          "Neuroticism"
         ],
         "yaxis": "y"
        },
        {
         "line": {
          "color": "black",
          "width": 1
         },
         "mode": "lines",
         "opacity": 0.7,
         "showlegend": false,
         "type": "scatter",
         "x": [
          0.04,
          0.35
         ],
         "xaxis": "x2",
         "y": [
          "Openness",
          "Openness"
         ],
         "yaxis": "y2"
        },
        {
         "marker": {
          "color": "red",
          "size": 10,
          "symbol": "circle"
         },
         "mode": "markers+text",
         "showlegend": false,
         "text": [
          "r=0.04"
         ],
         "textposition": "middle left",
         "type": "scatter",
         "x": [
          0.04
         ],
         "xaxis": "x2",
         "y": [
          "Openness"
         ],
         "yaxis": "y2"
        },
        {
         "marker": {
          "color": "red",
          "size": 10,
          "symbol": "square"
         },
         "mode": "markers+text",
         "showlegend": false,
         "text": [
          "r=0.35"
         ],
         "textposition": "middle right",
         "type": "scatter",
         "x": [
          0.35
         ],
         "xaxis": "x2",
         "y": [
          "Openness"
         ],
         "yaxis": "y2"
        },
        {
         "line": {
          "color": "black",
          "width": 1
         },
         "mode": "lines",
         "opacity": 0.7,
         "showlegend": false,
         "type": "scatter",
         "x": [
          -0.03,
          0.19
         ],
         "xaxis": "x2",
         "y": [
          "Conscientiousness",
          "Conscientiousness"
         ],
         "yaxis": "y2"
        },
        {
         "marker": {
          "color": "red",
          "size": 10,
          "symbol": "circle"
         },
         "mode": "markers+text",
         "showlegend": false,
         "text": [
          "r=-0.03"
         ],
         "textposition": "middle left",
         "type": "scatter",
         "x": [
          -0.03
         ],
         "xaxis": "x2",
         "y": [
          "Conscientiousness"
         ],
         "yaxis": "y2"
        },
        {
         "marker": {
          "color": "red",
          "size": 10,
          "symbol": "square"
         },
         "mode": "markers+text",
         "showlegend": false,
         "text": [
          "r=0.19"
         ],
         "textposition": "middle right",
         "type": "scatter",
         "x": [
          0.19
         ],
         "xaxis": "x2",
         "y": [
          "Conscientiousness"
         ],
         "yaxis": "y2"
        },
        {
         "line": {
          "color": "black",
          "width": 1
         },
         "mode": "lines",
         "opacity": 0.7,
         "showlegend": false,
         "type": "scatter",
         "x": [
          0.17,
          0.26
         ],
         "xaxis": "x2",
         "y": [
          "Extraversion",
          "Extraversion"
         ],
         "yaxis": "y2"
        },
        {
         "marker": {
          "color": "green",
          "size": 10,
          "symbol": "circle"
         },
         "mode": "markers+text",
         "showlegend": false,
         "text": [
          "r=0.17"
         ],
         "textposition": "middle left",
         "type": "scatter",
         "x": [
          0.17
         ],
         "xaxis": "x2",
         "y": [
          "Extraversion"
         ],
         "yaxis": "y2"
        },
        {
         "marker": {
          "color": "green",
          "size": 10,
          "symbol": "square"
         },
         "mode": "markers+text",
         "showlegend": false,
         "text": [
          "r=0.26"
         ],
         "textposition": "middle right",
         "type": "scatter",
         "x": [
          0.26
         ],
         "xaxis": "x2",
         "y": [
          "Extraversion"
         ],
         "yaxis": "y2"
        },
        {
         "line": {
          "color": "black",
          "width": 1
         },
         "mode": "lines",
         "opacity": 0.7,
         "showlegend": false,
         "type": "scatter",
         "x": [
          0.39,
          0.22
         ],
         "xaxis": "x2",
         "y": [
          "Agreeableness",
          "Agreeableness"
         ],
         "yaxis": "y2"
        },
        {
         "marker": {
          "color": "red",
          "size": 10,
          "symbol": "circle"
         },
         "mode": "markers+text",
         "showlegend": false,
         "text": [
          "r=0.39"
         ],
         "textposition": "middle right",
         "type": "scatter",
         "x": [
          0.39
         ],
         "xaxis": "x2",
         "y": [
          "Agreeableness"
         ],
         "yaxis": "y2"
        },
        {
         "marker": {
          "color": "red",
          "size": 10,
          "symbol": "square"
         },
         "mode": "markers+text",
         "showlegend": false,
         "text": [
          "r=0.22"
         ],
         "textposition": "middle left",
         "type": "scatter",
         "x": [
          0.22
         ],
         "xaxis": "x2",
         "y": [
          "Agreeableness"
         ],
         "yaxis": "y2"
        },
        {
         "line": {
          "color": "black",
          "width": 1
         },
         "mode": "lines",
         "opacity": 0.7,
         "showlegend": false,
         "type": "scatter",
         "x": [
          0,
          0.14
         ],
         "xaxis": "x2",
         "y": [
          "Neuroticism",
          "Neuroticism"
         ],
         "yaxis": "y2"
        },
        {
         "marker": {
          "color": "red",
          "size": 10,
          "symbol": "circle"
         },
         "mode": "markers+text",
         "showlegend": false,
         "text": [
          "r=-0.0"
         ],
         "textposition": "middle left",
         "type": "scatter",
         "x": [
          0
         ],
         "xaxis": "x2",
         "y": [
          "Neuroticism"
         ],
         "yaxis": "y2"
        },
        {
         "marker": {
          "color": "red",
          "size": 10,
          "symbol": "square"
         },
         "mode": "markers+text",
         "showlegend": false,
         "text": [
          "r=0.14"
         ],
         "textposition": "middle right",
         "type": "scatter",
         "x": [
          0.14
         ],
         "xaxis": "x2",
         "y": [
          "Neuroticism"
         ],
         "yaxis": "y2"
        },
        {
         "line": {
          "color": "black",
          "width": 1
         },
         "mode": "lines",
         "opacity": 0.7,
         "showlegend": false,
         "type": "scatter",
         "x": [
          -0.03,
          0.42
         ],
         "xaxis": "x3",
         "y": [
          "Openness",
          "Openness"
         ],
         "yaxis": "y3"
        },
        {
         "marker": {
          "color": "red",
          "size": 10,
          "symbol": "circle"
         },
         "mode": "markers+text",
         "showlegend": false,
         "text": [
          "r=-0.03"
         ],
         "textposition": "middle left",
         "type": "scatter",
         "x": [
          -0.03
         ],
         "xaxis": "x3",
         "y": [
          "Openness"
         ],
         "yaxis": "y3"
        },
        {
         "marker": {
          "color": "red",
          "size": 10,
          "symbol": "square"
         },
         "mode": "markers+text",
         "showlegend": false,
         "text": [
          "r=0.42"
         ],
         "textposition": "middle right",
         "type": "scatter",
         "x": [
          0.42
         ],
         "xaxis": "x3",
         "y": [
          "Openness"
         ],
         "yaxis": "y3"
        },
        {
         "line": {
          "color": "black",
          "width": 1
         },
         "mode": "lines",
         "opacity": 0.7,
         "showlegend": false,
         "type": "scatter",
         "x": [
          0.05,
          0.09
         ],
         "xaxis": "x3",
         "y": [
          "Conscientiousness",
          "Conscientiousness"
         ],
         "yaxis": "y3"
        },
        {
         "marker": {
          "color": "green",
          "size": 10,
          "symbol": "circle"
         },
         "mode": "markers+text",
         "showlegend": false,
         "text": [
          "r=0.05"
         ],
         "textposition": "middle left",
         "type": "scatter",
         "x": [
          0.05
         ],
         "xaxis": "x3",
         "y": [
          "Conscientiousness"
         ],
         "yaxis": "y3"
        },
        {
         "marker": {
          "color": "green",
          "size": 10,
          "symbol": "square"
         },
         "mode": "markers+text",
         "showlegend": false,
         "text": [
          "r=0.09"
         ],
         "textposition": "middle right",
         "type": "scatter",
         "x": [
          0.09
         ],
         "xaxis": "x3",
         "y": [
          "Conscientiousness"
         ],
         "yaxis": "y3"
        },
        {
         "line": {
          "color": "black",
          "width": 1
         },
         "mode": "lines",
         "opacity": 0.7,
         "showlegend": false,
         "type": "scatter",
         "x": [
          0.19,
          0.37
         ],
         "xaxis": "x3",
         "y": [
          "Extraversion",
          "Extraversion"
         ],
         "yaxis": "y3"
        },
        {
         "marker": {
          "color": "red",
          "size": 10,
          "symbol": "circle"
         },
         "mode": "markers+text",
         "showlegend": false,
         "text": [
          "r=0.19"
         ],
         "textposition": "middle left",
         "type": "scatter",
         "x": [
          0.19
         ],
         "xaxis": "x3",
         "y": [
          "Extraversion"
         ],
         "yaxis": "y3"
        },
        {
         "marker": {
          "color": "red",
          "size": 10,
          "symbol": "square"
         },
         "mode": "markers+text",
         "showlegend": false,
         "text": [
          "r=0.37"
         ],
         "textposition": "middle right",
         "type": "scatter",
         "x": [
          0.37
         ],
         "xaxis": "x3",
         "y": [
          "Extraversion"
         ],
         "yaxis": "y3"
        },
        {
         "line": {
          "color": "black",
          "width": 1
         },
         "mode": "lines",
         "opacity": 0.7,
         "showlegend": false,
         "type": "scatter",
         "x": [
          0.26,
          0.18
         ],
         "xaxis": "x3",
         "y": [
          "Agreeableness",
          "Agreeableness"
         ],
         "yaxis": "y3"
        },
        {
         "marker": {
          "color": "green",
          "size": 10,
          "symbol": "circle"
         },
         "mode": "markers+text",
         "showlegend": false,
         "text": [
          "r=0.26"
         ],
         "textposition": "middle right",
         "type": "scatter",
         "x": [
          0.26
         ],
         "xaxis": "x3",
         "y": [
          "Agreeableness"
         ],
         "yaxis": "y3"
        },
        {
         "marker": {
          "color": "green",
          "size": 10,
          "symbol": "square"
         },
         "mode": "markers+text",
         "showlegend": false,
         "text": [
          "r=0.18"
         ],
         "textposition": "middle left",
         "type": "scatter",
         "x": [
          0.18
         ],
         "xaxis": "x3",
         "y": [
          "Agreeableness"
         ],
         "yaxis": "y3"
        },
        {
         "line": {
          "color": "black",
          "width": 1
         },
         "mode": "lines",
         "opacity": 0.7,
         "showlegend": false,
         "type": "scatter",
         "x": [
          -0.17,
          -0.21
         ],
         "xaxis": "x3",
         "y": [
          "Neuroticism",
          "Neuroticism"
         ],
         "yaxis": "y3"
        },
        {
         "marker": {
          "color": "green",
          "size": 10,
          "symbol": "circle"
         },
         "mode": "markers+text",
         "showlegend": false,
         "text": [
          "r=-0.17"
         ],
         "textposition": "middle right",
         "type": "scatter",
         "x": [
          -0.17
         ],
         "xaxis": "x3",
         "y": [
          "Neuroticism"
         ],
         "yaxis": "y3"
        },
        {
         "marker": {
          "color": "green",
          "size": 10,
          "symbol": "square"
         },
         "mode": "markers+text",
         "showlegend": false,
         "text": [
          "r=-0.21"
         ],
         "textposition": "middle left",
         "type": "scatter",
         "x": [
          -0.21
         ],
         "xaxis": "x3",
         "y": [
          "Neuroticism"
         ],
         "yaxis": "y3"
        },
        {
         "marker": {
          "color": "gray",
          "size": 10,
          "symbol": "circle"
         },
         "mode": "markers",
         "name": "Humans",
         "type": "scatter",
         "x": [
          null
         ],
         "y": [
          null
         ]
        },
        {
         "marker": {
          "color": "gray",
          "size": 10,
          "symbol": "square"
         },
         "mode": "markers",
         "name": "Synthetic Twin",
         "type": "scatter",
         "x": [
          null
         ],
         "y": [
          null
         ]
        },
        {
         "marker": {
          "color": "green",
          "size": 10,
          "symbol": "circle"
         },
         "mode": "markers",
         "name": "Aligned",
         "type": "scatter",
         "x": [
          null
         ],
         "y": [
          null
         ]
        },
        {
         "marker": {
          "color": "red",
          "size": 10,
          "symbol": "circle"
         },
         "mode": "markers",
         "name": "Misaligned",
         "type": "scatter",
         "x": [
          null
         ],
         "y": [
          null
         ]
        }
       ],
       "layout": {
        "annotations": [
         {
          "font": {
           "size": 16
          },
          "showarrow": false,
          "text": "Cabin Luggage",
          "x": 0.5,
          "xanchor": "center",
          "xref": "paper",
          "y": 1,
          "yanchor": "bottom",
          "yref": "paper"
         },
         {
          "font": {
           "size": 16
          },
          "showarrow": false,
          "text": "Packing Cubes",
          "x": 0.5,
          "xanchor": "center",
          "xref": "paper",
          "y": 0.6333333333333333,
          "yanchor": "bottom",
          "yref": "paper"
         },
         {
          "font": {
           "size": 16
          },
          "showarrow": false,
          "text": "Water Bottle",
          "x": 0.5,
          "xanchor": "center",
          "xref": "paper",
          "y": 0.26666666666666666,
          "yanchor": "bottom",
          "yref": "paper"
         }
        ],
        "height": 1400,
        "legend": {
         "borderwidth": 0,
         "font": {
          "size": 12
         },
         "traceorder": "normal",
         "x": 1.02,
         "y": 1
        },
        "margin": {
         "b": 80,
         "l": 100,
         "r": 220,
         "t": 100
        },
        "template": {
         "data": {
          "bar": [
           {
            "error_x": {
             "color": "#2a3f5f"
            },
            "error_y": {
             "color": "#2a3f5f"
            },
            "marker": {
             "line": {
              "color": "#E5ECF6",
              "width": 0.5
             },
             "pattern": {
              "fillmode": "overlay",
              "size": 10,
              "solidity": 0.2
             }
            },
            "type": "bar"
           }
          ],
          "barpolar": [
           {
            "marker": {
             "line": {
              "color": "#E5ECF6",
              "width": 0.5
             },
             "pattern": {
              "fillmode": "overlay",
              "size": 10,
              "solidity": 0.2
             }
            },
            "type": "barpolar"
           }
          ],
          "carpet": [
           {
            "aaxis": {
             "endlinecolor": "#2a3f5f",
             "gridcolor": "white",
             "linecolor": "white",
             "minorgridcolor": "white",
             "startlinecolor": "#2a3f5f"
            },
            "baxis": {
             "endlinecolor": "#2a3f5f",
             "gridcolor": "white",
             "linecolor": "white",
             "minorgridcolor": "white",
             "startlinecolor": "#2a3f5f"
            },
            "type": "carpet"
           }
          ],
          "choropleth": [
           {
            "colorbar": {
             "outlinewidth": 0,
             "ticks": ""
            },
            "type": "choropleth"
           }
          ],
          "contour": [
           {
            "colorbar": {
             "outlinewidth": 0,
             "ticks": ""
            },
            "colorscale": [
             [
              0,
              "#0d0887"
             ],
             [
              0.1111111111111111,
              "#46039f"
             ],
             [
              0.2222222222222222,
              "#7201a8"
             ],
             [
              0.3333333333333333,
              "#9c179e"
             ],
             [
              0.4444444444444444,
              "#bd3786"
             ],
             [
              0.5555555555555556,
              "#d8576b"
             ],
             [
              0.6666666666666666,
              "#ed7953"
             ],
             [
              0.7777777777777778,
              "#fb9f3a"
             ],
             [
              0.8888888888888888,
              "#fdca26"
             ],
             [
              1,
              "#f0f921"
             ]
            ],
            "type": "contour"
           }
          ],
          "contourcarpet": [
           {
            "colorbar": {
             "outlinewidth": 0,
             "ticks": ""
            },
            "type": "contourcarpet"
           }
          ],
          "heatmap": [
           {
            "colorbar": {
             "outlinewidth": 0,
             "ticks": ""
            },
            "colorscale": [
             [
              0,
              "#0d0887"
             ],
             [
              0.1111111111111111,
              "#46039f"
             ],
             [
              0.2222222222222222,
              "#7201a8"
             ],
             [
              0.3333333333333333,
              "#9c179e"
             ],
             [
              0.4444444444444444,
              "#bd3786"
             ],
             [
              0.5555555555555556,
              "#d8576b"
             ],
             [
              0.6666666666666666,
              "#ed7953"
             ],
             [
              0.7777777777777778,
              "#fb9f3a"
             ],
             [
              0.8888888888888888,
              "#fdca26"
             ],
             [
              1,
              "#f0f921"
             ]
            ],
            "type": "heatmap"
           }
          ],
          "histogram": [
           {
            "marker": {
             "pattern": {
              "fillmode": "overlay",
              "size": 10,
              "solidity": 0.2
             }
            },
            "type": "histogram"
           }
          ],
          "histogram2d": [
           {
            "colorbar": {
             "outlinewidth": 0,
             "ticks": ""
            },
            "colorscale": [
             [
              0,
              "#0d0887"
             ],
             [
              0.1111111111111111,
              "#46039f"
             ],
             [
              0.2222222222222222,
              "#7201a8"
             ],
             [
              0.3333333333333333,
              "#9c179e"
             ],
             [
              0.4444444444444444,
              "#bd3786"
             ],
             [
              0.5555555555555556,
              "#d8576b"
             ],
             [
              0.6666666666666666,
              "#ed7953"
             ],
             [
              0.7777777777777778,
              "#fb9f3a"
             ],
             [
              0.8888888888888888,
              "#fdca26"
             ],
             [
              1,
              "#f0f921"
             ]
            ],
            "type": "histogram2d"
           }
          ],
          "histogram2dcontour": [
           {
            "colorbar": {
             "outlinewidth": 0,
             "ticks": ""
            },
            "colorscale": [
             [
              0,
              "#0d0887"
             ],
             [
              0.1111111111111111,
              "#46039f"
             ],
             [
              0.2222222222222222,
              "#7201a8"
             ],
             [
              0.3333333333333333,
              "#9c179e"
             ],
             [
              0.4444444444444444,
              "#bd3786"
             ],
             [
              0.5555555555555556,
              "#d8576b"
             ],
             [
              0.6666666666666666,
              "#ed7953"
             ],
             [
              0.7777777777777778,
              "#fb9f3a"
             ],
             [
              0.8888888888888888,
              "#fdca26"
             ],
             [
              1,
              "#f0f921"
             ]
            ],
            "type": "histogram2dcontour"
           }
          ],
          "mesh3d": [
           {
            "colorbar": {
             "outlinewidth": 0,
             "ticks": ""
            },
            "type": "mesh3d"
           }
          ],
          "parcoords": [
           {
            "line": {
             "colorbar": {
              "outlinewidth": 0,
              "ticks": ""
             }
            },
            "type": "parcoords"
           }
          ],
          "pie": [
           {
            "automargin": true,
            "type": "pie"
           }
          ],
          "scatter": [
           {
            "fillpattern": {
             "fillmode": "overlay",
             "size": 10,
             "solidity": 0.2
            },
            "type": "scatter"
           }
          ],
          "scatter3d": [
           {
            "line": {
             "colorbar": {
              "outlinewidth": 0,
              "ticks": ""
             }
            },
            "marker": {
             "colorbar": {
              "outlinewidth": 0,
              "ticks": ""
             }
            },
            "type": "scatter3d"
           }
          ],
          "scattercarpet": [
           {
            "marker": {
             "colorbar": {
              "outlinewidth": 0,
              "ticks": ""
             }
            },
            "type": "scattercarpet"
           }
          ],
          "scattergeo": [
           {
            "marker": {
             "colorbar": {
              "outlinewidth": 0,
              "ticks": ""
             }
            },
            "type": "scattergeo"
           }
          ],
          "scattergl": [
           {
            "marker": {
             "colorbar": {
              "outlinewidth": 0,
              "ticks": ""
             }
            },
            "type": "scattergl"
           }
          ],
          "scattermap": [
           {
            "marker": {
             "colorbar": {
              "outlinewidth": 0,
              "ticks": ""
             }
            },
            "type": "scattermap"
           }
          ],
          "scattermapbox": [
           {
            "marker": {
             "colorbar": {
              "outlinewidth": 0,
              "ticks": ""
             }
            },
            "type": "scattermapbox"
           }
          ],
          "scatterpolar": [
           {
            "marker": {
             "colorbar": {
              "outlinewidth": 0,
              "ticks": ""
             }
            },
            "type": "scatterpolar"
           }
          ],
          "scatterpolargl": [
           {
            "marker": {
             "colorbar": {
              "outlinewidth": 0,
              "ticks": ""
             }
            },
            "type": "scatterpolargl"
           }
          ],
          "scatterternary": [
           {
            "marker": {
             "colorbar": {
              "outlinewidth": 0,
              "ticks": ""
             }
            },
            "type": "scatterternary"
           }
          ],
          "surface": [
           {
            "colorbar": {
             "outlinewidth": 0,
             "ticks": ""
            },
            "colorscale": [
             [
              0,
              "#0d0887"
             ],
             [
              0.1111111111111111,
              "#46039f"
             ],
             [
              0.2222222222222222,
              "#7201a8"
             ],
             [
              0.3333333333333333,
              "#9c179e"
             ],
             [
              0.4444444444444444,
              "#bd3786"
             ],
             [
              0.5555555555555556,
              "#d8576b"
             ],
             [
              0.6666666666666666,
              "#ed7953"
             ],
             [
              0.7777777777777778,
              "#fb9f3a"
             ],
             [
              0.8888888888888888,
              "#fdca26"
             ],
             [
              1,
              "#f0f921"
             ]
            ],
            "type": "surface"
           }
          ],
          "table": [
           {
            "cells": {
             "fill": {
              "color": "#EBF0F8"
             },
             "line": {
              "color": "white"
             }
            },
            "header": {
             "fill": {
              "color": "#C8D4E3"
             },
             "line": {
              "color": "white"
             }
            },
            "type": "table"
           }
          ]
         },
         "layout": {
          "annotationdefaults": {
           "arrowcolor": "#2a3f5f",
           "arrowhead": 0,
           "arrowwidth": 1
          },
          "autotypenumbers": "strict",
          "coloraxis": {
           "colorbar": {
            "outlinewidth": 0,
            "ticks": ""
           }
          },
          "colorscale": {
           "diverging": [
            [
             0,
             "#8e0152"
            ],
            [
             0.1,
             "#c51b7d"
            ],
            [
             0.2,
             "#de77ae"
            ],
            [
             0.3,
             "#f1b6da"
            ],
            [
             0.4,
             "#fde0ef"
            ],
            [
             0.5,
             "#f7f7f7"
            ],
            [
             0.6,
             "#e6f5d0"
            ],
            [
             0.7,
             "#b8e186"
            ],
            [
             0.8,
             "#7fbc41"
            ],
            [
             0.9,
             "#4d9221"
            ],
            [
             1,
             "#276419"
            ]
           ],
           "sequential": [
            [
             0,
             "#0d0887"
            ],
            [
             0.1111111111111111,
             "#46039f"
            ],
            [
             0.2222222222222222,
             "#7201a8"
            ],
            [
             0.3333333333333333,
             "#9c179e"
            ],
            [
             0.4444444444444444,
             "#bd3786"
            ],
            [
             0.5555555555555556,
             "#d8576b"
            ],
            [
             0.6666666666666666,
             "#ed7953"
            ],
            [
             0.7777777777777778,
             "#fb9f3a"
            ],
            [
             0.8888888888888888,
             "#fdca26"
            ],
            [
             1,
             "#f0f921"
            ]
           ],
           "sequentialminus": [
            [
             0,
             "#0d0887"
            ],
            [
             0.1111111111111111,
             "#46039f"
            ],
            [
             0.2222222222222222,
             "#7201a8"
            ],
            [
             0.3333333333333333,
             "#9c179e"
            ],
            [
             0.4444444444444444,
             "#bd3786"
            ],
            [
             0.5555555555555556,
             "#d8576b"
            ],
            [
             0.6666666666666666,
             "#ed7953"
            ],
            [
             0.7777777777777778,
             "#fb9f3a"
            ],
            [
             0.8888888888888888,
             "#fdca26"
            ],
            [
             1,
             "#f0f921"
            ]
           ]
          },
          "colorway": [
           "#636efa",
           "#EF553B",
           "#00cc96",
           "#ab63fa",
           "#FFA15A",
           "#19d3f3",
           "#FF6692",
           "#B6E880",
           "#FF97FF",
           "#FECB52"
          ],
          "font": {
           "color": "#2a3f5f"
          },
          "geo": {
           "bgcolor": "white",
           "lakecolor": "white",
           "landcolor": "#E5ECF6",
           "showlakes": true,
           "showland": true,
           "subunitcolor": "white"
          },
          "hoverlabel": {
           "align": "left"
          },
          "hovermode": "closest",
          "mapbox": {
           "style": "light"
          },
          "paper_bgcolor": "white",
          "plot_bgcolor": "#E5ECF6",
          "polar": {
           "angularaxis": {
            "gridcolor": "white",
            "linecolor": "white",
            "ticks": ""
           },
           "bgcolor": "#E5ECF6",
           "radialaxis": {
            "gridcolor": "white",
            "linecolor": "white",
            "ticks": ""
           }
          },
          "scene": {
           "xaxis": {
            "backgroundcolor": "#E5ECF6",
            "gridcolor": "white",
            "gridwidth": 2,
            "linecolor": "white",
            "showbackground": true,
            "ticks": "",
            "zerolinecolor": "white"
           },
           "yaxis": {
            "backgroundcolor": "#E5ECF6",
            "gridcolor": "white",
            "gridwidth": 2,
            "linecolor": "white",
            "showbackground": true,
            "ticks": "",
            "zerolinecolor": "white"
           },
           "zaxis": {
            "backgroundcolor": "#E5ECF6",
            "gridcolor": "white",
            "gridwidth": 2,
            "linecolor": "white",
            "showbackground": true,
            "ticks": "",
            "zerolinecolor": "white"
           }
          },
          "shapedefaults": {
           "line": {
            "color": "#2a3f5f"
           }
          },
          "ternary": {
           "aaxis": {
            "gridcolor": "white",
            "linecolor": "white",
            "ticks": ""
           },
           "baxis": {
            "gridcolor": "white",
            "linecolor": "white",
            "ticks": ""
           },
           "bgcolor": "#E5ECF6",
           "caxis": {
            "gridcolor": "white",
            "linecolor": "white",
            "ticks": ""
           }
          },
          "title": {
           "x": 0.05
          },
          "xaxis": {
           "automargin": true,
           "gridcolor": "white",
           "linecolor": "white",
           "ticks": "",
           "title": {
            "standoff": 15
           },
           "zerolinecolor": "white",
           "zerolinewidth": 2
          },
          "yaxis": {
           "automargin": true,
           "gridcolor": "white",
           "linecolor": "white",
           "ticks": "",
           "title": {
            "standoff": 15
           },
           "zerolinecolor": "white",
           "zerolinewidth": 2
          }
         }
        },
        "title": {
         "text": "Alignment Between Humans and Synthetic Twins (Gemini)"
        },
        "width": 1300,
        "xaxis": {
         "anchor": "y",
         "domain": [
          0,
          1
         ],
         "range": [
          -0.08020000000000001,
          0.33999999999999997
         ],
         "title": {
          "text": "Correlation"
         }
        },
        "xaxis2": {
         "anchor": "y2",
         "domain": [
          0,
          1
         ],
         "range": [
          -0.07880000000000001,
          0.4426
         ],
         "title": {
          "text": "Correlation"
         }
        },
        "xaxis3": {
         "anchor": "y3",
         "domain": [
          0,
          1
         ],
         "range": [
          -0.26,
          0.47
         ],
         "title": {
          "text": "Correlation"
         }
        },
        "yaxis": {
         "anchor": "x",
         "categoryarray": [
          "Neuroticism",
          "Agreeableness",
          "Extraversion",
          "Conscientiousness",
          "Openness"
         ],
         "categoryorder": "array",
         "domain": [
          0.7333333333333334,
          1
         ]
        },
        "yaxis2": {
         "anchor": "x2",
         "categoryarray": [
          "Neuroticism",
          "Agreeableness",
          "Extraversion",
          "Conscientiousness",
          "Openness"
         ],
         "categoryorder": "array",
         "domain": [
          0.3666666666666667,
          0.6333333333333333
         ]
        },
        "yaxis3": {
         "anchor": "x3",
         "categoryarray": [
          "Neuroticism",
          "Agreeableness",
          "Extraversion",
          "Conscientiousness",
          "Openness"
         ],
         "categoryorder": "array",
         "domain": [
          0,
          0.26666666666666666
         ]
        }
       }
      }
     },
     "metadata": {},
     "output_type": "display_data"
    }
   ],
   "source": [
    "plot_alignment_with_humans(\"gemini\")"
   ]
  }
 ],
 "metadata": {
  "kernelspec": {
   "display_name": "synthetic-twin-agents-env",
   "language": "python",
   "name": "python3"
  },
  "language_info": {
   "codemirror_mode": {
    "name": "ipython",
    "version": 3
   },
   "file_extension": ".py",
   "mimetype": "text/x-python",
   "name": "python",
   "nbconvert_exporter": "python",
   "pygments_lexer": "ipython3",
   "version": "3.12.11"
  }
 },
 "nbformat": 4,
 "nbformat_minor": 5
}

{
 "cells": [
  {
   "cell_type": "markdown",
   "id": "89fb7853-2f53-4b0d-b5d7-6d64d1e04282",
   "metadata": {},
   "source": [
    "<h1>Generate and Improve Image Descriptions</h1>\n",
    "\n",
    "In this notebook we prompt a model to describe our images and then we ask the model to improve descriptions. (a-few-shots prompt)\n",
    "\n",
    "This involves using an image as a scenario of survey questions, and piping the answer to a question into another question."
   ]
  },
  {
   "cell_type": "code",
   "execution_count": null,
   "id": "c26426c8",
   "metadata": {},
   "outputs": [],
   "source": [
    "# import os\n",
    "from dotenv import load_dotenv\n",
    "\n",
    "load_dotenv()"
   ]
  },
  {
   "cell_type": "code",
   "execution_count": null,
   "id": "c74a3512-8f6c-4eaf-8489-73cb0bbc0bac",
   "metadata": {},
   "outputs": [],
   "source": [
    "from edsl import QuestionFreeText\n",
    "\n",
    "q1 = QuestionFreeText(\n",
    "    question_name = \"describe\",\n",
    "    question_text = \"\"\"\n",
    "    I have an image of an object that I would like you to describe in detail. \n",
    "    Based on the image provided, please write a description that includes:\n",
    "\n",
    "    1. The object's appearance, including color, shape, and material.\n",
    "    2. Any notable design features or patterns.\n",
    "    3. The object's functionality or potential use.\n",
    "    4. The overall impression or aesthetic of the object.\n",
    "    \n",
    "    Here is the image: {{ image }}. Please make your description as precise and vivid as possible.\n",
    "    \"\"\"\n",
    ")"
   ]
  },
  {
   "cell_type": "code",
   "execution_count": null,
   "id": "55845ad1-2343-4b69-b4ed-b254bb78a630",
   "metadata": {},
   "outputs": [],
   "source": [
    "from edsl import QuestionFreeText\n",
    "\n",
    "q2 = QuestionFreeText(\n",
    "    question_name = \"improvements\",\n",
    "    question_text = \"\"\"\n",
    "    Evaluate the description of this image on a scale from 1 to 10.\n",
    "    Explain the reasoning behind your evaluation.\n",
    "    Image: {{ image }}\n",
    "    Description: {{ describe.answer }}\n",
    "    \"\"\"\n",
    ")"
   ]
  },
  {
   "cell_type": "code",
   "execution_count": null,
   "id": "aa27d182-9ad2-44b0-9fab-498986b5cb54",
   "metadata": {},
   "outputs": [],
   "source": [
    "# all images sotred/cached on expectedparrot service.\n",
    "\n",
    "IMAGE_UUIDS = {\n",
    "    'cabin_luggage': ['4f41ad44-6472-4403-8e59-0fb0e5eca575', 'e30bbefa-b135-4a46-bf32-ed9437be8733', 'a56079a4-1f50-4019-9344-947101bd3e4b'],\n",
    "    'packing_cubes': ['7c046f64-1209-447d-a68a-b984f3508e0b', '82ffd7a6-87dc-4365-9c9f-2e76263908be', '851dedbe-3b32-45ca-8c32-4ddc510f7327'],\n",
    "    'water_bottle': ['2a81aec9-c164-4d29-9281-360547f04ac4', 'd34d3ec1-073d-45b9-baca-a0d3411e9e0c', 'ff0ab897-50b8-458e-bfa5-7550b8a48648']\n",
    "}"
   ]
  },
  {
   "cell_type": "code",
   "execution_count": null,
   "id": "0646a6a6-0b8d-4e9d-a686-bc2027ecf85e",
   "metadata": {},
   "outputs": [],
   "source": [
    "%%time\n",
    "\n",
    "from edsl import Scenario, ScenarioList, FileStore\n",
    "\n",
    "def prefetch_images(image_uuids):\n",
    "    return {\n",
    "        product: {\n",
    "            index: FileStore.pull(uuid) for index, uuid in enumerate(uuids)\n",
    "        }\n",
    "        for product, uuids in image_uuids.items()\n",
    "    }\n",
    "\n",
    "pre_fetched_images = prefetch_images(IMAGE_UUIDS)\n",
    "\n",
    "sl = ScenarioList([\n",
    "    Scenario({\n",
    "        \"question_name\": f\"{product}_{i + 1}\",\n",
    "        \"image\": pre_fetched_images[product][i]\n",
    "    })\n",
    "    for product in IMAGE_UUIDS\n",
    "    for i in range(3)\n",
    "])\n",
    "\n",
    "sl"
   ]
  },
  {
   "cell_type": "code",
   "execution_count": null,
   "id": "a3acf16c-e374-4199-92e2-0d36b3352c10",
   "metadata": {},
   "outputs": [],
   "source": [
    "%%time\n",
    "\n",
    "from edsl import Survey\n",
    "\n",
    "survey = Survey(questions = [q1, q2])"
   ]
  },
  {
   "cell_type": "code",
   "execution_count": null,
   "id": "8124c063-530a-4b67-878f-1f36ebce572d",
   "metadata": {},
   "outputs": [],
   "source": [
    "from edsl import Model\n",
    "\n",
    "Model.services()"
   ]
  },
  {
   "cell_type": "code",
   "execution_count": null,
   "id": "8bd78793-cdfc-4240-aaf6-593f8265b77c",
   "metadata": {},
   "outputs": [],
   "source": [
    "from edsl import Model, ModelList\n",
    "\n",
    "ml = ModelList([\n",
    "  Model(\"gpt-4o\", service_name = \"openai\", temperature = 1, max_tokens = 5000),\n",
    "  Model(\"gpt-5-chat-latest\", service_name = \"openai\", temperature = 1, max_tokens = 5000),\n",
    "  Model(\"gemini-2.0-flash\", service_name = \"google\", temperature = 1, maxOutputTokens = 5000),\n",
    "  Model(\"gemini-1.5-flash\", service_name = \"google\", temperature = 1, maxOutputTokens = 5000),\n",
    "])\n",
    "\n",
    "ml\n"
   ]
  },
  {
   "cell_type": "code",
   "execution_count": null,
   "id": "95e5a9d6-d038-4cfb-8a74-df0fa0dc1c48",
   "metadata": {},
   "outputs": [],
   "source": [
    "%%time\n",
    "\n",
    "results = survey.by(sl).by(ml).run()"
   ]
  },
  {
   "cell_type": "code",
   "execution_count": null,
   "id": "95e5a9d6-d038-4cfb-8a74-df0fa0dc1c48",
   "metadata": {},
   "outputs": [],
   "source": [
    "results.select('model', 'scenario.question_name', 'answer.*')"
   ]
  }
 ],
 "metadata": {
  "kernelspec": {
   "display_name": "synthetic-twin-agents-env",
   "language": "python",
   "name": "python3"
  },
  "language_info": {
   "codemirror_mode": {
    "name": "ipython",
    "version": 3
   },
   "file_extension": ".py",
   "mimetype": "text/x-python",
   "name": "python",
   "nbconvert_exporter": "python",
   "pygments_lexer": "ipython3",
   "version": "3.12.11"
  }
 },
 "nbformat": 4,
 "nbformat_minor": 5
}

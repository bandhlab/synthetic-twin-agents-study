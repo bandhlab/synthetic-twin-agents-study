{
 "cells": [
  {
   "cell_type": "markdown",
   "id": "ff312b96-aa12-4cbc-b802-2a0ba7653946",
   "metadata": {},
   "source": [
    "<h3>Format GPT-5 Synthetic Twin Agents Survey Responses</h3>"
   ]
  },
  {
   "cell_type": "code",
   "execution_count": null,
   "id": "fc085f2d-69f5-481f-9f7e-40e3b1d295f9",
   "metadata": {},
   "outputs": [],
   "source": [
    "import os\n",
    "import sys\n",
    "\n",
    "utilities_dir = os.path.join(os.getcwd(), '../../utilities')\n",
    "sys.path.append(utilities_dir)\n",
    "\n",
    "import pandas as pd\n",
    "\n",
    "from data_transformer import transform_survey_data_to_wide_format\n",
    "\n",
    "pd.set_option('display.max_rows', None)\n",
    "pd.set_option('display.max_columns', None)\n",
    "\n",
    "results = transform_survey_data_to_wide_format(\n",
    "    input_path=\"../../synthetics_survey_results/gpt_5\",\n",
    "    output_path=\"../../synthetics_survey_results/gpt_5/all_stas/synthetic_participants_gpt_5_latest.csv\"\n",
    ")"
   ]
  }
 ],
 "metadata": {
  "kernelspec": {
   "display_name": "synthetic-twin-agents-env",
   "language": "python",
   "name": "python3"
  },
  "language_info": {
   "codemirror_mode": {
    "name": "ipython",
    "version": 3
   },
   "file_extension": ".py",
   "mimetype": "text/x-python",
   "name": "python",
   "nbconvert_exporter": "python",
   "pygments_lexer": "ipython3",
   "version": "3.12.11"
  }
 },
 "nbformat": 4,
 "nbformat_minor": 5
}
